{
  "nbformat": 4,
  "nbformat_minor": 0,
  "metadata": {
    "colab": {
      "provenance": [],
      "collapsed_sections": [
        "G9URG477D7Gt",
        "ZxT_tK0uEdrV",
        "upjQ3Y6_Fz1c",
        "8KiVW2xeHDr6",
        "uLt8PkdRIFoU",
        "U-MqthUOSHav",
        "xVAHHAWUU_Kl",
        "l66HwyloW68e"
      ]
    },
    "kernelspec": {
      "name": "python3",
      "display_name": "Python 3"
    },
    "language_info": {
      "name": "python"
    }
  },
  "cells": [
    {
      "cell_type": "markdown",
      "source": [
        "# Explanation:"
      ],
      "metadata": {
        "id": "-ZlZ2JGisJql"
      }
    },
    {
      "cell_type": "markdown",
      "source": [
        "This Database Contains Movies Created By Several Directors In The World.\n",
        "\n",
        "This Database Can Be Seen At: https://www.kaggle.com/luizpaulodeoliveira/imdb-project-sql\n",
        "\n",
        "This Database Contains Two Tables. The First Table Is Called 'directors', Contains The Name Of The Director And His Gender. The Second Table Is Called 'movies', Contains The Title Of The Movies, budget, revenue, popularity, etc.\n",
        "\n",
        "From This database, You Can Find Out The Best Movies Based On Income, Popularity And Votes. In Addition, You Can Also Find Out The Best Director Based On The Amount Of Revenue From All His Movies.\n",
        "\n",
        "The Correlation Coefficient Of These Two Tables Can Show The Effect Of Each Column To The Other Column."
      ],
      "metadata": {
        "id": "9uzhT8avsOPd"
      }
    },
    {
      "cell_type": "markdown",
      "source": [
        "**Analysis on IMDB using sqlite3,numpy,pandas and some visualisation libraries such as Matplotlib and Seaborn.**"
      ],
      "metadata": {
        "id": "8NeJO_MosT6J"
      }
    },
    {
      "cell_type": "code",
      "execution_count": 31,
      "metadata": {
        "id": "UxTigpsj0IKM"
      },
      "outputs": [],
      "source": [
        "# import numpy and pandas for mathematical functions and frameworks\n",
        "import numpy as np\n",
        "import pandas as pd\n",
        "\n",
        "# importing libraries for visualisation\n",
        "import seaborn as sb\n",
        "import matplotlib.pyplot as plt\n",
        "\n",
        "import sqlite3\n",
        "\n",
        "#suppress warnings\n",
        "import warnings\n",
        "warnings.filterwarnings('ignore')"
      ]
    },
    {
      "cell_type": "code",
      "source": [
        "#importing dataset and forming connection to interact with sql database\n",
        "db = \"/content/drive/MyDrive/movies.sqlite\"\n",
        "conn = sqlite3.connect(db)\n",
        "cur =conn.cursor()"
      ],
      "metadata": {
        "id": "LFsikzYv1oqy"
      },
      "execution_count": 32,
      "outputs": []
    },
    {
      "cell_type": "markdown",
      "source": [
        "# **Q1) Can you get all data about movies ?**"
      ],
      "metadata": {
        "id": "to8bVmpl4-EI"
      }
    },
    {
      "cell_type": "code",
      "source": [
        "cur.execute(\"Select * FROM movies\")\n",
        "\n",
        "movies = cur.fetchall()\n",
        "\n",
        "movies = pd.DataFrame(movies,columns= ['id', 'original_title', 'budget', 'popularity', 'release_date', 'revenue', 'title', 'vote_average', \n",
        "                                       'vote_count', 'overview', 'tagline', 'uid', 'director_id'])\n",
        "\n",
        "print(\"Shape of movies data = \",movies.shape)\n",
        "print(\"\\n\\n\\n\")\n",
        "movies.head(5)"
      ],
      "metadata": {
        "colab": {
          "base_uri": "https://localhost:8080/",
          "height": 0
        },
        "id": "esS66sNV47A1",
        "outputId": "d4a641ea-43d3-47c9-90f0-3ceef7fafab8"
      },
      "execution_count": 33,
      "outputs": [
        {
          "output_type": "stream",
          "name": "stdout",
          "text": [
            "Shape of movies data =  (4773, 13)\n",
            "\n",
            "\n",
            "\n",
            "\n"
          ]
        },
        {
          "output_type": "execute_result",
          "data": {
            "text/plain": [
              "      id                            original_title     budget  popularity  \\\n",
              "0  43597                                    Avatar  237000000         150   \n",
              "1  43598  Pirates of the Caribbean: At World's End  300000000         139   \n",
              "2  43599                                   Spectre  245000000         107   \n",
              "3  43600                     The Dark Knight Rises  250000000         112   \n",
              "4  43601                               John Carter  260000000          43   \n",
              "\n",
              "  release_date     revenue                                     title  \\\n",
              "0   2009-12-10  2787965087                                    Avatar   \n",
              "1   2007-05-19   961000000  Pirates of the Caribbean: At World's End   \n",
              "2   2015-10-26   880674609                                   Spectre   \n",
              "3   2012-07-16  1084939099                     The Dark Knight Rises   \n",
              "4   2012-03-07   284139100                               John Carter   \n",
              "\n",
              "   vote_average  vote_count  \\\n",
              "0           7.2       11800   \n",
              "1           6.9        4500   \n",
              "2           6.3        4466   \n",
              "3           7.6        9106   \n",
              "4           6.1        2124   \n",
              "\n",
              "                                            overview  \\\n",
              "0  In the 22nd century, a paraplegic Marine is di...   \n",
              "1  Captain Barbossa, long believed to be dead, ha...   \n",
              "2  A cryptic message from Bond’s past sends him o...   \n",
              "3  Following the death of District Attorney Harve...   \n",
              "4  John Carter is a war-weary, former military ca...   \n",
              "\n",
              "                                          tagline     uid  director_id  \n",
              "0                     Enter the World of Pandora.   19995         4762  \n",
              "1  At the end of the world, the adventure begins.     285         4763  \n",
              "2                           A Plan No One Escapes  206647         4764  \n",
              "3                                 The Legend Ends   49026         4765  \n",
              "4            Lost in our world, found in another.   49529         4766  "
            ],
            "text/html": [
              "\n",
              "  <div id=\"df-431eef4c-14a1-4889-a631-4e5f42c8d405\">\n",
              "    <div class=\"colab-df-container\">\n",
              "      <div>\n",
              "<style scoped>\n",
              "    .dataframe tbody tr th:only-of-type {\n",
              "        vertical-align: middle;\n",
              "    }\n",
              "\n",
              "    .dataframe tbody tr th {\n",
              "        vertical-align: top;\n",
              "    }\n",
              "\n",
              "    .dataframe thead th {\n",
              "        text-align: right;\n",
              "    }\n",
              "</style>\n",
              "<table border=\"1\" class=\"dataframe\">\n",
              "  <thead>\n",
              "    <tr style=\"text-align: right;\">\n",
              "      <th></th>\n",
              "      <th>id</th>\n",
              "      <th>original_title</th>\n",
              "      <th>budget</th>\n",
              "      <th>popularity</th>\n",
              "      <th>release_date</th>\n",
              "      <th>revenue</th>\n",
              "      <th>title</th>\n",
              "      <th>vote_average</th>\n",
              "      <th>vote_count</th>\n",
              "      <th>overview</th>\n",
              "      <th>tagline</th>\n",
              "      <th>uid</th>\n",
              "      <th>director_id</th>\n",
              "    </tr>\n",
              "  </thead>\n",
              "  <tbody>\n",
              "    <tr>\n",
              "      <th>0</th>\n",
              "      <td>43597</td>\n",
              "      <td>Avatar</td>\n",
              "      <td>237000000</td>\n",
              "      <td>150</td>\n",
              "      <td>2009-12-10</td>\n",
              "      <td>2787965087</td>\n",
              "      <td>Avatar</td>\n",
              "      <td>7.2</td>\n",
              "      <td>11800</td>\n",
              "      <td>In the 22nd century, a paraplegic Marine is di...</td>\n",
              "      <td>Enter the World of Pandora.</td>\n",
              "      <td>19995</td>\n",
              "      <td>4762</td>\n",
              "    </tr>\n",
              "    <tr>\n",
              "      <th>1</th>\n",
              "      <td>43598</td>\n",
              "      <td>Pirates of the Caribbean: At World's End</td>\n",
              "      <td>300000000</td>\n",
              "      <td>139</td>\n",
              "      <td>2007-05-19</td>\n",
              "      <td>961000000</td>\n",
              "      <td>Pirates of the Caribbean: At World's End</td>\n",
              "      <td>6.9</td>\n",
              "      <td>4500</td>\n",
              "      <td>Captain Barbossa, long believed to be dead, ha...</td>\n",
              "      <td>At the end of the world, the adventure begins.</td>\n",
              "      <td>285</td>\n",
              "      <td>4763</td>\n",
              "    </tr>\n",
              "    <tr>\n",
              "      <th>2</th>\n",
              "      <td>43599</td>\n",
              "      <td>Spectre</td>\n",
              "      <td>245000000</td>\n",
              "      <td>107</td>\n",
              "      <td>2015-10-26</td>\n",
              "      <td>880674609</td>\n",
              "      <td>Spectre</td>\n",
              "      <td>6.3</td>\n",
              "      <td>4466</td>\n",
              "      <td>A cryptic message from Bond’s past sends him o...</td>\n",
              "      <td>A Plan No One Escapes</td>\n",
              "      <td>206647</td>\n",
              "      <td>4764</td>\n",
              "    </tr>\n",
              "    <tr>\n",
              "      <th>3</th>\n",
              "      <td>43600</td>\n",
              "      <td>The Dark Knight Rises</td>\n",
              "      <td>250000000</td>\n",
              "      <td>112</td>\n",
              "      <td>2012-07-16</td>\n",
              "      <td>1084939099</td>\n",
              "      <td>The Dark Knight Rises</td>\n",
              "      <td>7.6</td>\n",
              "      <td>9106</td>\n",
              "      <td>Following the death of District Attorney Harve...</td>\n",
              "      <td>The Legend Ends</td>\n",
              "      <td>49026</td>\n",
              "      <td>4765</td>\n",
              "    </tr>\n",
              "    <tr>\n",
              "      <th>4</th>\n",
              "      <td>43601</td>\n",
              "      <td>John Carter</td>\n",
              "      <td>260000000</td>\n",
              "      <td>43</td>\n",
              "      <td>2012-03-07</td>\n",
              "      <td>284139100</td>\n",
              "      <td>John Carter</td>\n",
              "      <td>6.1</td>\n",
              "      <td>2124</td>\n",
              "      <td>John Carter is a war-weary, former military ca...</td>\n",
              "      <td>Lost in our world, found in another.</td>\n",
              "      <td>49529</td>\n",
              "      <td>4766</td>\n",
              "    </tr>\n",
              "  </tbody>\n",
              "</table>\n",
              "</div>\n",
              "      <button class=\"colab-df-convert\" onclick=\"convertToInteractive('df-431eef4c-14a1-4889-a631-4e5f42c8d405')\"\n",
              "              title=\"Convert this dataframe to an interactive table.\"\n",
              "              style=\"display:none;\">\n",
              "        \n",
              "  <svg xmlns=\"http://www.w3.org/2000/svg\" height=\"24px\"viewBox=\"0 0 24 24\"\n",
              "       width=\"24px\">\n",
              "    <path d=\"M0 0h24v24H0V0z\" fill=\"none\"/>\n",
              "    <path d=\"M18.56 5.44l.94 2.06.94-2.06 2.06-.94-2.06-.94-.94-2.06-.94 2.06-2.06.94zm-11 1L8.5 8.5l.94-2.06 2.06-.94-2.06-.94L8.5 2.5l-.94 2.06-2.06.94zm10 10l.94 2.06.94-2.06 2.06-.94-2.06-.94-.94-2.06-.94 2.06-2.06.94z\"/><path d=\"M17.41 7.96l-1.37-1.37c-.4-.4-.92-.59-1.43-.59-.52 0-1.04.2-1.43.59L10.3 9.45l-7.72 7.72c-.78.78-.78 2.05 0 2.83L4 21.41c.39.39.9.59 1.41.59.51 0 1.02-.2 1.41-.59l7.78-7.78 2.81-2.81c.8-.78.8-2.07 0-2.86zM5.41 20L4 18.59l7.72-7.72 1.47 1.35L5.41 20z\"/>\n",
              "  </svg>\n",
              "      </button>\n",
              "      \n",
              "  <style>\n",
              "    .colab-df-container {\n",
              "      display:flex;\n",
              "      flex-wrap:wrap;\n",
              "      gap: 12px;\n",
              "    }\n",
              "\n",
              "    .colab-df-convert {\n",
              "      background-color: #E8F0FE;\n",
              "      border: none;\n",
              "      border-radius: 50%;\n",
              "      cursor: pointer;\n",
              "      display: none;\n",
              "      fill: #1967D2;\n",
              "      height: 32px;\n",
              "      padding: 0 0 0 0;\n",
              "      width: 32px;\n",
              "    }\n",
              "\n",
              "    .colab-df-convert:hover {\n",
              "      background-color: #E2EBFA;\n",
              "      box-shadow: 0px 1px 2px rgba(60, 64, 67, 0.3), 0px 1px 3px 1px rgba(60, 64, 67, 0.15);\n",
              "      fill: #174EA6;\n",
              "    }\n",
              "\n",
              "    [theme=dark] .colab-df-convert {\n",
              "      background-color: #3B4455;\n",
              "      fill: #D2E3FC;\n",
              "    }\n",
              "\n",
              "    [theme=dark] .colab-df-convert:hover {\n",
              "      background-color: #434B5C;\n",
              "      box-shadow: 0px 1px 3px 1px rgba(0, 0, 0, 0.15);\n",
              "      filter: drop-shadow(0px 1px 2px rgba(0, 0, 0, 0.3));\n",
              "      fill: #FFFFFF;\n",
              "    }\n",
              "  </style>\n",
              "\n",
              "      <script>\n",
              "        const buttonEl =\n",
              "          document.querySelector('#df-431eef4c-14a1-4889-a631-4e5f42c8d405 button.colab-df-convert');\n",
              "        buttonEl.style.display =\n",
              "          google.colab.kernel.accessAllowed ? 'block' : 'none';\n",
              "\n",
              "        async function convertToInteractive(key) {\n",
              "          const element = document.querySelector('#df-431eef4c-14a1-4889-a631-4e5f42c8d405');\n",
              "          const dataTable =\n",
              "            await google.colab.kernel.invokeFunction('convertToInteractive',\n",
              "                                                     [key], {});\n",
              "          if (!dataTable) return;\n",
              "\n",
              "          const docLinkHtml = 'Like what you see? Visit the ' +\n",
              "            '<a target=\"_blank\" href=https://colab.research.google.com/notebooks/data_table.ipynb>data table notebook</a>'\n",
              "            + ' to learn more about interactive tables.';\n",
              "          element.innerHTML = '';\n",
              "          dataTable['output_type'] = 'display_data';\n",
              "          await google.colab.output.renderOutput(dataTable, element);\n",
              "          const docLink = document.createElement('div');\n",
              "          docLink.innerHTML = docLinkHtml;\n",
              "          element.appendChild(docLink);\n",
              "        }\n",
              "      </script>\n",
              "    </div>\n",
              "  </div>\n",
              "  "
            ]
          },
          "metadata": {},
          "execution_count": 33
        }
      ]
    },
    {
      "cell_type": "code",
      "source": [
        "movies.info()"
      ],
      "metadata": {
        "colab": {
          "base_uri": "https://localhost:8080/"
        },
        "id": "-cFOcQwQ7HmS",
        "outputId": "e9dccef5-caba-4443-99fc-a45cf572db6a"
      },
      "execution_count": 34,
      "outputs": [
        {
          "output_type": "stream",
          "name": "stdout",
          "text": [
            "<class 'pandas.core.frame.DataFrame'>\n",
            "RangeIndex: 4773 entries, 0 to 4772\n",
            "Data columns (total 13 columns):\n",
            " #   Column          Non-Null Count  Dtype  \n",
            "---  ------          --------------  -----  \n",
            " 0   id              4773 non-null   int64  \n",
            " 1   original_title  4773 non-null   object \n",
            " 2   budget          4773 non-null   int64  \n",
            " 3   popularity      4773 non-null   int64  \n",
            " 4   release_date    4773 non-null   object \n",
            " 5   revenue         4773 non-null   int64  \n",
            " 6   title           4773 non-null   object \n",
            " 7   vote_average    4773 non-null   float64\n",
            " 8   vote_count      4773 non-null   int64  \n",
            " 9   overview        4770 non-null   object \n",
            " 10  tagline         3951 non-null   object \n",
            " 11  uid             4773 non-null   int64  \n",
            " 12  director_id     4773 non-null   int64  \n",
            "dtypes: float64(1), int64(7), object(5)\n",
            "memory usage: 484.9+ KB\n"
          ]
        }
      ]
    },
    {
      "cell_type": "markdown",
      "source": [
        "# **Q2) How do you get all data about directors?**"
      ],
      "metadata": {
        "id": "bF5_t_DT7L2J"
      }
    },
    {
      "cell_type": "code",
      "source": [
        "cur.execute(\"select * from directors\")\n",
        "directors= cur.fetchall()\n",
        "\n",
        "directors =pd.DataFrame(directors,columns = ['name', 'id', 'gender', 'uid', 'department'])\n",
        "\n",
        "print(\"shape of directors table = \", directors.shape)\n",
        "print(\"\\n\\n\\n\")\n",
        "\n",
        "directors.head()"
      ],
      "metadata": {
        "colab": {
          "base_uri": "https://localhost:8080/",
          "height": 0
        },
        "id": "V6NnEZmB_pXj",
        "outputId": "739269dc-d5c8-43ab-8a73-87e47ca535dd"
      },
      "execution_count": 35,
      "outputs": [
        {
          "output_type": "stream",
          "name": "stdout",
          "text": [
            "shape of directors table =  (2349, 5)\n",
            "\n",
            "\n",
            "\n",
            "\n"
          ]
        },
        {
          "output_type": "execute_result",
          "data": {
            "text/plain": [
              "                name    id  gender   uid department\n",
              "0      James Cameron  4762       2  2710  Directing\n",
              "1     Gore Verbinski  4763       2  1704  Directing\n",
              "2         Sam Mendes  4764       2    39  Directing\n",
              "3  Christopher Nolan  4765       2   525  Directing\n",
              "4     Andrew Stanton  4766       2     7  Directing"
            ],
            "text/html": [
              "\n",
              "  <div id=\"df-c9b0b894-fb7e-4adf-a780-d326caa5c820\">\n",
              "    <div class=\"colab-df-container\">\n",
              "      <div>\n",
              "<style scoped>\n",
              "    .dataframe tbody tr th:only-of-type {\n",
              "        vertical-align: middle;\n",
              "    }\n",
              "\n",
              "    .dataframe tbody tr th {\n",
              "        vertical-align: top;\n",
              "    }\n",
              "\n",
              "    .dataframe thead th {\n",
              "        text-align: right;\n",
              "    }\n",
              "</style>\n",
              "<table border=\"1\" class=\"dataframe\">\n",
              "  <thead>\n",
              "    <tr style=\"text-align: right;\">\n",
              "      <th></th>\n",
              "      <th>name</th>\n",
              "      <th>id</th>\n",
              "      <th>gender</th>\n",
              "      <th>uid</th>\n",
              "      <th>department</th>\n",
              "    </tr>\n",
              "  </thead>\n",
              "  <tbody>\n",
              "    <tr>\n",
              "      <th>0</th>\n",
              "      <td>James Cameron</td>\n",
              "      <td>4762</td>\n",
              "      <td>2</td>\n",
              "      <td>2710</td>\n",
              "      <td>Directing</td>\n",
              "    </tr>\n",
              "    <tr>\n",
              "      <th>1</th>\n",
              "      <td>Gore Verbinski</td>\n",
              "      <td>4763</td>\n",
              "      <td>2</td>\n",
              "      <td>1704</td>\n",
              "      <td>Directing</td>\n",
              "    </tr>\n",
              "    <tr>\n",
              "      <th>2</th>\n",
              "      <td>Sam Mendes</td>\n",
              "      <td>4764</td>\n",
              "      <td>2</td>\n",
              "      <td>39</td>\n",
              "      <td>Directing</td>\n",
              "    </tr>\n",
              "    <tr>\n",
              "      <th>3</th>\n",
              "      <td>Christopher Nolan</td>\n",
              "      <td>4765</td>\n",
              "      <td>2</td>\n",
              "      <td>525</td>\n",
              "      <td>Directing</td>\n",
              "    </tr>\n",
              "    <tr>\n",
              "      <th>4</th>\n",
              "      <td>Andrew Stanton</td>\n",
              "      <td>4766</td>\n",
              "      <td>2</td>\n",
              "      <td>7</td>\n",
              "      <td>Directing</td>\n",
              "    </tr>\n",
              "  </tbody>\n",
              "</table>\n",
              "</div>\n",
              "      <button class=\"colab-df-convert\" onclick=\"convertToInteractive('df-c9b0b894-fb7e-4adf-a780-d326caa5c820')\"\n",
              "              title=\"Convert this dataframe to an interactive table.\"\n",
              "              style=\"display:none;\">\n",
              "        \n",
              "  <svg xmlns=\"http://www.w3.org/2000/svg\" height=\"24px\"viewBox=\"0 0 24 24\"\n",
              "       width=\"24px\">\n",
              "    <path d=\"M0 0h24v24H0V0z\" fill=\"none\"/>\n",
              "    <path d=\"M18.56 5.44l.94 2.06.94-2.06 2.06-.94-2.06-.94-.94-2.06-.94 2.06-2.06.94zm-11 1L8.5 8.5l.94-2.06 2.06-.94-2.06-.94L8.5 2.5l-.94 2.06-2.06.94zm10 10l.94 2.06.94-2.06 2.06-.94-2.06-.94-.94-2.06-.94 2.06-2.06.94z\"/><path d=\"M17.41 7.96l-1.37-1.37c-.4-.4-.92-.59-1.43-.59-.52 0-1.04.2-1.43.59L10.3 9.45l-7.72 7.72c-.78.78-.78 2.05 0 2.83L4 21.41c.39.39.9.59 1.41.59.51 0 1.02-.2 1.41-.59l7.78-7.78 2.81-2.81c.8-.78.8-2.07 0-2.86zM5.41 20L4 18.59l7.72-7.72 1.47 1.35L5.41 20z\"/>\n",
              "  </svg>\n",
              "      </button>\n",
              "      \n",
              "  <style>\n",
              "    .colab-df-container {\n",
              "      display:flex;\n",
              "      flex-wrap:wrap;\n",
              "      gap: 12px;\n",
              "    }\n",
              "\n",
              "    .colab-df-convert {\n",
              "      background-color: #E8F0FE;\n",
              "      border: none;\n",
              "      border-radius: 50%;\n",
              "      cursor: pointer;\n",
              "      display: none;\n",
              "      fill: #1967D2;\n",
              "      height: 32px;\n",
              "      padding: 0 0 0 0;\n",
              "      width: 32px;\n",
              "    }\n",
              "\n",
              "    .colab-df-convert:hover {\n",
              "      background-color: #E2EBFA;\n",
              "      box-shadow: 0px 1px 2px rgba(60, 64, 67, 0.3), 0px 1px 3px 1px rgba(60, 64, 67, 0.15);\n",
              "      fill: #174EA6;\n",
              "    }\n",
              "\n",
              "    [theme=dark] .colab-df-convert {\n",
              "      background-color: #3B4455;\n",
              "      fill: #D2E3FC;\n",
              "    }\n",
              "\n",
              "    [theme=dark] .colab-df-convert:hover {\n",
              "      background-color: #434B5C;\n",
              "      box-shadow: 0px 1px 3px 1px rgba(0, 0, 0, 0.15);\n",
              "      filter: drop-shadow(0px 1px 2px rgba(0, 0, 0, 0.3));\n",
              "      fill: #FFFFFF;\n",
              "    }\n",
              "  </style>\n",
              "\n",
              "      <script>\n",
              "        const buttonEl =\n",
              "          document.querySelector('#df-c9b0b894-fb7e-4adf-a780-d326caa5c820 button.colab-df-convert');\n",
              "        buttonEl.style.display =\n",
              "          google.colab.kernel.accessAllowed ? 'block' : 'none';\n",
              "\n",
              "        async function convertToInteractive(key) {\n",
              "          const element = document.querySelector('#df-c9b0b894-fb7e-4adf-a780-d326caa5c820');\n",
              "          const dataTable =\n",
              "            await google.colab.kernel.invokeFunction('convertToInteractive',\n",
              "                                                     [key], {});\n",
              "          if (!dataTable) return;\n",
              "\n",
              "          const docLinkHtml = 'Like what you see? Visit the ' +\n",
              "            '<a target=\"_blank\" href=https://colab.research.google.com/notebooks/data_table.ipynb>data table notebook</a>'\n",
              "            + ' to learn more about interactive tables.';\n",
              "          element.innerHTML = '';\n",
              "          dataTable['output_type'] = 'display_data';\n",
              "          await google.colab.output.renderOutput(dataTable, element);\n",
              "          const docLink = document.createElement('div');\n",
              "          docLink.innerHTML = docLinkHtml;\n",
              "          element.appendChild(docLink);\n",
              "        }\n",
              "      </script>\n",
              "    </div>\n",
              "  </div>\n",
              "  "
            ]
          },
          "metadata": {},
          "execution_count": 35
        }
      ]
    },
    {
      "cell_type": "code",
      "source": [
        "directors.info()"
      ],
      "metadata": {
        "colab": {
          "base_uri": "https://localhost:8080/"
        },
        "id": "3GspUTHXAZ6G",
        "outputId": "daa9524d-8c88-44fb-dda3-742089f17b6d"
      },
      "execution_count": 36,
      "outputs": [
        {
          "output_type": "stream",
          "name": "stdout",
          "text": [
            "<class 'pandas.core.frame.DataFrame'>\n",
            "RangeIndex: 2349 entries, 0 to 2348\n",
            "Data columns (total 5 columns):\n",
            " #   Column      Non-Null Count  Dtype \n",
            "---  ------      --------------  ----- \n",
            " 0   name        2349 non-null   object\n",
            " 1   id          2349 non-null   int64 \n",
            " 2   gender      2349 non-null   int64 \n",
            " 3   uid         2349 non-null   int64 \n",
            " 4   department  2349 non-null   object\n",
            "dtypes: int64(3), object(2)\n",
            "memory usage: 91.9+ KB\n"
          ]
        }
      ]
    },
    {
      "cell_type": "markdown",
      "source": [
        "# **Q3) Check how many movies are present in IMDB.**"
      ],
      "metadata": {
        "id": "fv5lkFkMAvis"
      }
    },
    {
      "cell_type": "code",
      "source": [
        "cur.execute(\"select count(*) from movies\")\n",
        "count = cur.fetchall()\n",
        "\n",
        "print(\"Number of movies present are :\", count)"
      ],
      "metadata": {
        "colab": {
          "base_uri": "https://localhost:8080/"
        },
        "id": "GseqAP9RA9F5",
        "outputId": "72b09cf9-6f14-4afb-b9ff-3db48de9e3c4"
      },
      "execution_count": 37,
      "outputs": [
        {
          "output_type": "stream",
          "name": "stdout",
          "text": [
            "Number of movies present are : [(4773,)]\n"
          ]
        }
      ]
    },
    {
      "cell_type": "markdown",
      "source": [
        "# **Q4) Find these 3 directors: James Cameron ; Luc Besson ; John Woo**"
      ],
      "metadata": {
        "id": "rKLM6pCGBkTw"
      }
    },
    {
      "cell_type": "code",
      "source": [
        "cur.execute(\"select * from directors where name == 'James Cameron' or name =='luc Besson'or name=='John Woo'\")\n",
        "dir3 = cur.fetchall()\n",
        "\n",
        "print(\"These 3 directors are :\",dir3)\n"
      ],
      "metadata": {
        "colab": {
          "base_uri": "https://localhost:8080/"
        },
        "id": "IN2ktom-Bpfx",
        "outputId": "75a37a5e-c260-44c5-8b36-05308af32392"
      },
      "execution_count": 38,
      "outputs": [
        {
          "output_type": "stream",
          "name": "stdout",
          "text": [
            "These 3 directors are : [('James Cameron', 4762, 2, 2710, 'Directing'), ('John Woo', 4893, 2, 11401, 'Directing')]\n"
          ]
        }
      ]
    },
    {
      "cell_type": "markdown",
      "source": [
        "# **Q5)  Find all directors with name starting with Steven.**"
      ],
      "metadata": {
        "id": "fNpti4_FCum8"
      }
    },
    {
      "cell_type": "code",
      "source": [
        "cur.execute(\"select * from directors where name like 'Steven%' \")\n",
        "\n",
        "dir = cur.fetchall()\n",
        "\n",
        "print(\"Directors with name starting as Steven are:\", dir)\n"
      ],
      "metadata": {
        "colab": {
          "base_uri": "https://localhost:8080/"
        },
        "id": "kDx0gIRdDGf5",
        "outputId": "3ed3157b-0772-4c4c-fb86-de6e09efa48d"
      },
      "execution_count": 39,
      "outputs": [
        {
          "output_type": "stream",
          "name": "stdout",
          "text": [
            "Directors with name starting as Steven are: [('Steven Spielberg', 4799, 2, 488, 'Directing'), ('Steven Soderbergh', 4909, 2, 1884, 'Directing'), ('Steven Brill', 5013, 2, 32593, 'Directing'), ('Steven Zaillian', 5117, 2, 2260, 'Directing'), ('Steven Quale', 5216, 2, 93214, 'Directing'), ('Steven Seagal', 5221, 2, 23880, 'Directing'), ('Steven E. de Souza', 5390, 2, 1726, 'Directing'), ('Steven Shainberg', 5803, 2, 67795, 'Directing'), ('Steven R. Monroe', 6713, 2, 88039, 'Directing')]\n"
          ]
        }
      ]
    },
    {
      "cell_type": "markdown",
      "source": [
        "# Q6) Count female directors."
      ],
      "metadata": {
        "id": "G9URG477D7Gt"
      }
    },
    {
      "cell_type": "code",
      "source": [
        "cur.execute(\"select count(*) from directors where gender=='1' \")\n",
        "w_dir= cur.fetchall()\n",
        "\n",
        "print(\"Number of female directors = \", w_dir)"
      ],
      "metadata": {
        "colab": {
          "base_uri": "https://localhost:8080/"
        },
        "id": "qr4X6J8EEByj",
        "outputId": "0abe0268-cd08-4d99-edcf-07364be3e4cd"
      },
      "execution_count": 40,
      "outputs": [
        {
          "output_type": "stream",
          "name": "stdout",
          "text": [
            "Number of female directors =  [(150,)]\n"
          ]
        }
      ]
    },
    {
      "cell_type": "markdown",
      "source": [
        "# Q7) Find the name of the 10th first women directors?"
      ],
      "metadata": {
        "id": "ZxT_tK0uEdrV"
      }
    },
    {
      "cell_type": "code",
      "source": [
        "cur.execute(\"select name from directors where gender='1'order by id ASC limit 1 offset 10\")\n",
        "name= cur.fetchall()\n",
        "\n",
        "print(\"Name of 10th first women director is : \", name)"
      ],
      "metadata": {
        "colab": {
          "base_uri": "https://localhost:8080/"
        },
        "id": "4yJBXrr2Eg5h",
        "outputId": "fcf86ac1-d16c-42a2-a1b0-ea56413cd154"
      },
      "execution_count": 41,
      "outputs": [
        {
          "output_type": "stream",
          "name": "stdout",
          "text": [
            "Name of 10th first women director is :  [('Karyn Kusama',)]\n"
          ]
        }
      ]
    },
    {
      "cell_type": "markdown",
      "source": [
        "# Q8) What are the 3 most popular movies?"
      ],
      "metadata": {
        "id": "upjQ3Y6_Fz1c"
      }
    },
    {
      "cell_type": "code",
      "source": [
        "cur.execute(\"select original_title from movies order by popularity DESC limit 3 \")\n",
        "mov= cur.fetchall()\n",
        "\n",
        "print(\"3 most popular movies are : \",mov)"
      ],
      "metadata": {
        "colab": {
          "base_uri": "https://localhost:8080/"
        },
        "id": "Qj_fDrHPF70M",
        "outputId": "d33af933-dc03-48ae-b1ce-afff2c74ddaf"
      },
      "execution_count": 42,
      "outputs": [
        {
          "output_type": "stream",
          "name": "stdout",
          "text": [
            "3 most popular movies are :  [('Minions',), ('Interstellar',), ('Deadpool',)]\n"
          ]
        }
      ]
    },
    {
      "cell_type": "markdown",
      "source": [
        "# Q9) What are the 3 most bankable movies?"
      ],
      "metadata": {
        "id": "8KiVW2xeHDr6"
      }
    },
    {
      "cell_type": "code",
      "source": [
        "cur.execute(\"select original_title from movies order by budget DESC limit 3\")\n",
        "b_mov = cur.fetchall()\n",
        "\n",
        "print(\"3 most bankable movies are : \", b_mov)\n"
      ],
      "metadata": {
        "colab": {
          "base_uri": "https://localhost:8080/"
        },
        "id": "HqW2AZiJHKjB",
        "outputId": "9bf52330-8987-4095-a1ef-f27ae9909af8"
      },
      "execution_count": 43,
      "outputs": [
        {
          "output_type": "stream",
          "name": "stdout",
          "text": [
            "3 most bankable movies are :  [('Pirates of the Caribbean: On Stranger Tides',), (\"Pirates of the Caribbean: At World's End\",), ('Avengers: Age of Ultron',)]\n"
          ]
        }
      ]
    },
    {
      "cell_type": "markdown",
      "source": [
        "# Q10)  What is the most awarded average vote since the January 1st, 2000?"
      ],
      "metadata": {
        "id": "uLt8PkdRIFoU"
      }
    },
    {
      "cell_type": "code",
      "source": [
        "cur.execute(\"select original_title from movies where release_date > '2000-01-01' order by vote_average DESC limit 1 \")\n",
        "\n",
        "nam= cur.fetchall()\n",
        "\n",
        "print(\"Most awarded average-voted movie since 1 Jan 2000 is :  \",nam)"
      ],
      "metadata": {
        "colab": {
          "base_uri": "https://localhost:8080/"
        },
        "id": "vq-T41HRINEK",
        "outputId": "0f0495c4-d421-43c5-90d3-bbb7c4495e81"
      },
      "execution_count": 44,
      "outputs": [
        {
          "output_type": "stream",
          "name": "stdout",
          "text": [
            "Most awarded average-voted movie since 1 Jan 2000 is :   [('Sardaarji',)]\n"
          ]
        }
      ]
    },
    {
      "cell_type": "markdown",
      "source": [
        "# Q11) Which movie(s) were directed by Brenda Chapman?"
      ],
      "metadata": {
        "id": "U-MqthUOSHav"
      }
    },
    {
      "cell_type": "code",
      "source": [
        "cur.execute(\"select original_title from movies JOIN directors on movies.director_id = directors.id where name =='Brenda Chapman'\")\n",
        "mov=cur.fetchall()\n",
        "\n",
        "print(\"Movies directed by Brenda Chapman : \",mov)\n"
      ],
      "metadata": {
        "colab": {
          "base_uri": "https://localhost:8080/"
        },
        "id": "RSw8knSfSoaw",
        "outputId": "932f6d89-843f-4680-bb39-3854bf82629a"
      },
      "execution_count": 45,
      "outputs": [
        {
          "output_type": "stream",
          "name": "stdout",
          "text": [
            "Movies directed by Brenda Chapman :  [('Brave',)]\n"
          ]
        }
      ]
    },
    {
      "cell_type": "markdown",
      "source": [
        "# Q12) Whose director made the most movies?"
      ],
      "metadata": {
        "id": "xVAHHAWUU_Kl"
      }
    },
    {
      "cell_type": "code",
      "source": [
        "cur.execute(\"select name from directors join movies on directors.id= movies.director_id GROUP BY(director_id) order by count(original_title)  DESC limit 1\")\n",
        "\n",
        "dirr = cur.fetchall()\n",
        "\n",
        "print(\"The director who made the highest movies : \",dirr)"
      ],
      "metadata": {
        "colab": {
          "base_uri": "https://localhost:8080/"
        },
        "id": "77sJHwzYVHrG",
        "outputId": "f27da66b-4ad9-4feb-e4aa-b0a59e87abdf"
      },
      "execution_count": 46,
      "outputs": [
        {
          "output_type": "stream",
          "name": "stdout",
          "text": [
            "The director who made the highest movies :  [('Steven Spielberg',)]\n"
          ]
        }
      ]
    },
    {
      "cell_type": "markdown",
      "source": [
        "# Q13) Whose director is the most bankable?"
      ],
      "metadata": {
        "id": "l66HwyloW68e"
      }
    },
    {
      "cell_type": "code",
      "source": [
        "cur.execute(\"select name from directors join movies on directors.id=movies.director_id group by director_id order by sum(budget) DESC limit 1\")\n",
        "bmov=cur.fetchall()\n",
        "\n",
        "print(\"Name of most bankable director : \",bmov)"
      ],
      "metadata": {
        "colab": {
          "base_uri": "https://localhost:8080/"
        },
        "id": "QGJVu7czXAzR",
        "outputId": "c850e471-7d93-48e8-8c36-5a7a29295c65"
      },
      "execution_count": 47,
      "outputs": [
        {
          "output_type": "stream",
          "name": "stdout",
          "text": [
            "Name of most bankable director :  [('Steven Spielberg',)]\n"
          ]
        }
      ]
    },
    {
      "cell_type": "markdown",
      "source": [
        "#  Analysis on IMDB dataset"
      ],
      "metadata": {
        "id": "rJNMhpzgX-8_"
      }
    },
    {
      "cell_type": "markdown",
      "source": [
        "\n",
        "\n",
        "#  Budget Analysis "
      ],
      "metadata": {
        "id": "W_cdPe6bYGQU"
      }
    },
    {
      "cell_type": "markdown",
      "source": [
        "**Question - List out Top 10 highest budget made movies**"
      ],
      "metadata": {
        "id": "derkQjpHYMDU"
      }
    },
    {
      "cell_type": "code",
      "source": [
        "cur.execute(\"select original_title,revenue,budget,release_date,name from movies join directors on movies.director_id=directors.id  order by budget DESC limit 10\")\n",
        "bud=cur.fetchall()\n",
        "\n",
        "bud= pd.DataFrame(bud,columns = [\"name\",\"revenue\",\"budget\",\"release_date\",\"director_name\"])\n",
        "bud.head(10)"
      ],
      "metadata": {
        "colab": {
          "base_uri": "https://localhost:8080/",
          "height": 0
        },
        "id": "AiLKBCbsYjLk",
        "outputId": "0b71b933-4296-46c2-db57-b4a51f378711"
      },
      "execution_count": 48,
      "outputs": [
        {
          "output_type": "execute_result",
          "data": {
            "text/plain": [
              "                                          name     revenue     budget  \\\n",
              "0  Pirates of the Caribbean: On Stranger Tides  1045713802  380000000   \n",
              "1     Pirates of the Caribbean: At World's End   961000000  300000000   \n",
              "2                      Avengers: Age of Ultron  1405403694  280000000   \n",
              "3                             Superman Returns   391081192  270000000   \n",
              "4                                  John Carter   284139100  260000000   \n",
              "5                                      Tangled   591794936  260000000   \n",
              "6                                 Spider-Man 3   890871626  258000000   \n",
              "7                              The Lone Ranger    89289910  255000000   \n",
              "8                        The Dark Knight Rises  1084939099  250000000   \n",
              "9       Harry Potter and the Half-Blood Prince   933959197  250000000   \n",
              "\n",
              "  release_date      director_name  \n",
              "0   2011-05-14       Rob Marshall  \n",
              "1   2007-05-19     Gore Verbinski  \n",
              "2   2015-04-22        Joss Whedon  \n",
              "3   2006-06-28       Bryan Singer  \n",
              "4   2012-03-07     Andrew Stanton  \n",
              "5   2010-11-24       Byron Howard  \n",
              "6   2007-05-01          Sam Raimi  \n",
              "7   2013-07-03     Gore Verbinski  \n",
              "8   2012-07-16  Christopher Nolan  \n",
              "9   2009-07-07        David Yates  "
            ],
            "text/html": [
              "\n",
              "  <div id=\"df-61283e6d-2c31-4144-95b1-1d34317c28fd\">\n",
              "    <div class=\"colab-df-container\">\n",
              "      <div>\n",
              "<style scoped>\n",
              "    .dataframe tbody tr th:only-of-type {\n",
              "        vertical-align: middle;\n",
              "    }\n",
              "\n",
              "    .dataframe tbody tr th {\n",
              "        vertical-align: top;\n",
              "    }\n",
              "\n",
              "    .dataframe thead th {\n",
              "        text-align: right;\n",
              "    }\n",
              "</style>\n",
              "<table border=\"1\" class=\"dataframe\">\n",
              "  <thead>\n",
              "    <tr style=\"text-align: right;\">\n",
              "      <th></th>\n",
              "      <th>name</th>\n",
              "      <th>revenue</th>\n",
              "      <th>budget</th>\n",
              "      <th>release_date</th>\n",
              "      <th>director_name</th>\n",
              "    </tr>\n",
              "  </thead>\n",
              "  <tbody>\n",
              "    <tr>\n",
              "      <th>0</th>\n",
              "      <td>Pirates of the Caribbean: On Stranger Tides</td>\n",
              "      <td>1045713802</td>\n",
              "      <td>380000000</td>\n",
              "      <td>2011-05-14</td>\n",
              "      <td>Rob Marshall</td>\n",
              "    </tr>\n",
              "    <tr>\n",
              "      <th>1</th>\n",
              "      <td>Pirates of the Caribbean: At World's End</td>\n",
              "      <td>961000000</td>\n",
              "      <td>300000000</td>\n",
              "      <td>2007-05-19</td>\n",
              "      <td>Gore Verbinski</td>\n",
              "    </tr>\n",
              "    <tr>\n",
              "      <th>2</th>\n",
              "      <td>Avengers: Age of Ultron</td>\n",
              "      <td>1405403694</td>\n",
              "      <td>280000000</td>\n",
              "      <td>2015-04-22</td>\n",
              "      <td>Joss Whedon</td>\n",
              "    </tr>\n",
              "    <tr>\n",
              "      <th>3</th>\n",
              "      <td>Superman Returns</td>\n",
              "      <td>391081192</td>\n",
              "      <td>270000000</td>\n",
              "      <td>2006-06-28</td>\n",
              "      <td>Bryan Singer</td>\n",
              "    </tr>\n",
              "    <tr>\n",
              "      <th>4</th>\n",
              "      <td>John Carter</td>\n",
              "      <td>284139100</td>\n",
              "      <td>260000000</td>\n",
              "      <td>2012-03-07</td>\n",
              "      <td>Andrew Stanton</td>\n",
              "    </tr>\n",
              "    <tr>\n",
              "      <th>5</th>\n",
              "      <td>Tangled</td>\n",
              "      <td>591794936</td>\n",
              "      <td>260000000</td>\n",
              "      <td>2010-11-24</td>\n",
              "      <td>Byron Howard</td>\n",
              "    </tr>\n",
              "    <tr>\n",
              "      <th>6</th>\n",
              "      <td>Spider-Man 3</td>\n",
              "      <td>890871626</td>\n",
              "      <td>258000000</td>\n",
              "      <td>2007-05-01</td>\n",
              "      <td>Sam Raimi</td>\n",
              "    </tr>\n",
              "    <tr>\n",
              "      <th>7</th>\n",
              "      <td>The Lone Ranger</td>\n",
              "      <td>89289910</td>\n",
              "      <td>255000000</td>\n",
              "      <td>2013-07-03</td>\n",
              "      <td>Gore Verbinski</td>\n",
              "    </tr>\n",
              "    <tr>\n",
              "      <th>8</th>\n",
              "      <td>The Dark Knight Rises</td>\n",
              "      <td>1084939099</td>\n",
              "      <td>250000000</td>\n",
              "      <td>2012-07-16</td>\n",
              "      <td>Christopher Nolan</td>\n",
              "    </tr>\n",
              "    <tr>\n",
              "      <th>9</th>\n",
              "      <td>Harry Potter and the Half-Blood Prince</td>\n",
              "      <td>933959197</td>\n",
              "      <td>250000000</td>\n",
              "      <td>2009-07-07</td>\n",
              "      <td>David Yates</td>\n",
              "    </tr>\n",
              "  </tbody>\n",
              "</table>\n",
              "</div>\n",
              "      <button class=\"colab-df-convert\" onclick=\"convertToInteractive('df-61283e6d-2c31-4144-95b1-1d34317c28fd')\"\n",
              "              title=\"Convert this dataframe to an interactive table.\"\n",
              "              style=\"display:none;\">\n",
              "        \n",
              "  <svg xmlns=\"http://www.w3.org/2000/svg\" height=\"24px\"viewBox=\"0 0 24 24\"\n",
              "       width=\"24px\">\n",
              "    <path d=\"M0 0h24v24H0V0z\" fill=\"none\"/>\n",
              "    <path d=\"M18.56 5.44l.94 2.06.94-2.06 2.06-.94-2.06-.94-.94-2.06-.94 2.06-2.06.94zm-11 1L8.5 8.5l.94-2.06 2.06-.94-2.06-.94L8.5 2.5l-.94 2.06-2.06.94zm10 10l.94 2.06.94-2.06 2.06-.94-2.06-.94-.94-2.06-.94 2.06-2.06.94z\"/><path d=\"M17.41 7.96l-1.37-1.37c-.4-.4-.92-.59-1.43-.59-.52 0-1.04.2-1.43.59L10.3 9.45l-7.72 7.72c-.78.78-.78 2.05 0 2.83L4 21.41c.39.39.9.59 1.41.59.51 0 1.02-.2 1.41-.59l7.78-7.78 2.81-2.81c.8-.78.8-2.07 0-2.86zM5.41 20L4 18.59l7.72-7.72 1.47 1.35L5.41 20z\"/>\n",
              "  </svg>\n",
              "      </button>\n",
              "      \n",
              "  <style>\n",
              "    .colab-df-container {\n",
              "      display:flex;\n",
              "      flex-wrap:wrap;\n",
              "      gap: 12px;\n",
              "    }\n",
              "\n",
              "    .colab-df-convert {\n",
              "      background-color: #E8F0FE;\n",
              "      border: none;\n",
              "      border-radius: 50%;\n",
              "      cursor: pointer;\n",
              "      display: none;\n",
              "      fill: #1967D2;\n",
              "      height: 32px;\n",
              "      padding: 0 0 0 0;\n",
              "      width: 32px;\n",
              "    }\n",
              "\n",
              "    .colab-df-convert:hover {\n",
              "      background-color: #E2EBFA;\n",
              "      box-shadow: 0px 1px 2px rgba(60, 64, 67, 0.3), 0px 1px 3px 1px rgba(60, 64, 67, 0.15);\n",
              "      fill: #174EA6;\n",
              "    }\n",
              "\n",
              "    [theme=dark] .colab-df-convert {\n",
              "      background-color: #3B4455;\n",
              "      fill: #D2E3FC;\n",
              "    }\n",
              "\n",
              "    [theme=dark] .colab-df-convert:hover {\n",
              "      background-color: #434B5C;\n",
              "      box-shadow: 0px 1px 3px 1px rgba(0, 0, 0, 0.15);\n",
              "      filter: drop-shadow(0px 1px 2px rgba(0, 0, 0, 0.3));\n",
              "      fill: #FFFFFF;\n",
              "    }\n",
              "  </style>\n",
              "\n",
              "      <script>\n",
              "        const buttonEl =\n",
              "          document.querySelector('#df-61283e6d-2c31-4144-95b1-1d34317c28fd button.colab-df-convert');\n",
              "        buttonEl.style.display =\n",
              "          google.colab.kernel.accessAllowed ? 'block' : 'none';\n",
              "\n",
              "        async function convertToInteractive(key) {\n",
              "          const element = document.querySelector('#df-61283e6d-2c31-4144-95b1-1d34317c28fd');\n",
              "          const dataTable =\n",
              "            await google.colab.kernel.invokeFunction('convertToInteractive',\n",
              "                                                     [key], {});\n",
              "          if (!dataTable) return;\n",
              "\n",
              "          const docLinkHtml = 'Like what you see? Visit the ' +\n",
              "            '<a target=\"_blank\" href=https://colab.research.google.com/notebooks/data_table.ipynb>data table notebook</a>'\n",
              "            + ' to learn more about interactive tables.';\n",
              "          element.innerHTML = '';\n",
              "          dataTable['output_type'] = 'display_data';\n",
              "          await google.colab.output.renderOutput(dataTable, element);\n",
              "          const docLink = document.createElement('div');\n",
              "          docLink.innerHTML = docLinkHtml;\n",
              "          element.appendChild(docLink);\n",
              "        }\n",
              "      </script>\n",
              "    </div>\n",
              "  </div>\n",
              "  "
            ]
          },
          "metadata": {},
          "execution_count": 48
        }
      ]
    },
    {
      "cell_type": "markdown",
      "source": [
        "# NOTE:"
      ],
      "metadata": {
        "id": "Pj5yW1nju_Yi"
      }
    },
    {
      "cell_type": "markdown",
      "source": [
        "The bud Table Contains List Of Movies With Highest Production Costs.\n",
        "\n",
        "For Your Information, Pirates of the Caribbean: On Stranger Tides, Directed By Rob Marshall, Is The Most Production Costs, It's USD 380,000,000."
      ],
      "metadata": {
        "id": "ffHQg9GuvCan"
      }
    },
    {
      "cell_type": "markdown",
      "source": [
        "# Popularity Analysis"
      ],
      "metadata": {
        "id": "0Hhpi3nJaj-Y"
      }
    },
    {
      "cell_type": "markdown",
      "source": [
        "**Question- List out Top 10 popularity on movies**"
      ],
      "metadata": {
        "id": "gqVWW4TpatJf"
      }
    },
    {
      "cell_type": "code",
      "source": [
        "cur.execute(\"select original_title,revenue,popularity,release_date,name from movies join directors on movies.director_id=directors.id  order by popularity DESC limit 10\")\n",
        "pup=cur.fetchall()\n",
        "\n",
        "pup= pd.DataFrame(pup,columns = [\"name\",\"revenue\",\"popularity\",\"release_date\",\"director_name\"])\n",
        "pup.head(10)"
      ],
      "metadata": {
        "colab": {
          "base_uri": "https://localhost:8080/",
          "height": 363
        },
        "id": "J6a1WoUia15X",
        "outputId": "502e3c21-8689-4b09-8370-1dda704832e9"
      },
      "execution_count": 49,
      "outputs": [
        {
          "output_type": "execute_result",
          "data": {
            "text/plain": [
              "                                                name     revenue  popularity  \\\n",
              "0                                            Minions  1156730962         875   \n",
              "1                                       Interstellar   675120017         724   \n",
              "2                                           Deadpool   783112979         514   \n",
              "3                            Guardians of the Galaxy   773328629         481   \n",
              "4                                 Mad Max: Fury Road   378858340         434   \n",
              "5                                     Jurassic World  1513528810         418   \n",
              "6  Pirates of the Caribbean: The Curse of the Bla...   655011224         271   \n",
              "7                     Dawn of the Planet of the Apes   710644566         243   \n",
              "8              The Hunger Games: Mockingjay - Part 1   752100229         206   \n",
              "9                                         Big Hero 6   652105443         203   \n",
              "\n",
              "  release_date      director_name  \n",
              "0   2015-06-17         Kyle Balda  \n",
              "1   2014-11-05  Christopher Nolan  \n",
              "2   2016-02-09         Tim Miller  \n",
              "3   2014-07-30         James Gunn  \n",
              "4   2015-05-13      George Miller  \n",
              "5   2015-06-09    Colin Trevorrow  \n",
              "6   2003-07-09     Gore Verbinski  \n",
              "7   2014-06-26        Matt Reeves  \n",
              "8   2014-11-18   Francis Lawrence  \n",
              "9   2014-10-24     Chris Williams  "
            ],
            "text/html": [
              "\n",
              "  <div id=\"df-3c33133f-af25-42c5-8eb9-1e13bd1796c8\">\n",
              "    <div class=\"colab-df-container\">\n",
              "      <div>\n",
              "<style scoped>\n",
              "    .dataframe tbody tr th:only-of-type {\n",
              "        vertical-align: middle;\n",
              "    }\n",
              "\n",
              "    .dataframe tbody tr th {\n",
              "        vertical-align: top;\n",
              "    }\n",
              "\n",
              "    .dataframe thead th {\n",
              "        text-align: right;\n",
              "    }\n",
              "</style>\n",
              "<table border=\"1\" class=\"dataframe\">\n",
              "  <thead>\n",
              "    <tr style=\"text-align: right;\">\n",
              "      <th></th>\n",
              "      <th>name</th>\n",
              "      <th>revenue</th>\n",
              "      <th>popularity</th>\n",
              "      <th>release_date</th>\n",
              "      <th>director_name</th>\n",
              "    </tr>\n",
              "  </thead>\n",
              "  <tbody>\n",
              "    <tr>\n",
              "      <th>0</th>\n",
              "      <td>Minions</td>\n",
              "      <td>1156730962</td>\n",
              "      <td>875</td>\n",
              "      <td>2015-06-17</td>\n",
              "      <td>Kyle Balda</td>\n",
              "    </tr>\n",
              "    <tr>\n",
              "      <th>1</th>\n",
              "      <td>Interstellar</td>\n",
              "      <td>675120017</td>\n",
              "      <td>724</td>\n",
              "      <td>2014-11-05</td>\n",
              "      <td>Christopher Nolan</td>\n",
              "    </tr>\n",
              "    <tr>\n",
              "      <th>2</th>\n",
              "      <td>Deadpool</td>\n",
              "      <td>783112979</td>\n",
              "      <td>514</td>\n",
              "      <td>2016-02-09</td>\n",
              "      <td>Tim Miller</td>\n",
              "    </tr>\n",
              "    <tr>\n",
              "      <th>3</th>\n",
              "      <td>Guardians of the Galaxy</td>\n",
              "      <td>773328629</td>\n",
              "      <td>481</td>\n",
              "      <td>2014-07-30</td>\n",
              "      <td>James Gunn</td>\n",
              "    </tr>\n",
              "    <tr>\n",
              "      <th>4</th>\n",
              "      <td>Mad Max: Fury Road</td>\n",
              "      <td>378858340</td>\n",
              "      <td>434</td>\n",
              "      <td>2015-05-13</td>\n",
              "      <td>George Miller</td>\n",
              "    </tr>\n",
              "    <tr>\n",
              "      <th>5</th>\n",
              "      <td>Jurassic World</td>\n",
              "      <td>1513528810</td>\n",
              "      <td>418</td>\n",
              "      <td>2015-06-09</td>\n",
              "      <td>Colin Trevorrow</td>\n",
              "    </tr>\n",
              "    <tr>\n",
              "      <th>6</th>\n",
              "      <td>Pirates of the Caribbean: The Curse of the Bla...</td>\n",
              "      <td>655011224</td>\n",
              "      <td>271</td>\n",
              "      <td>2003-07-09</td>\n",
              "      <td>Gore Verbinski</td>\n",
              "    </tr>\n",
              "    <tr>\n",
              "      <th>7</th>\n",
              "      <td>Dawn of the Planet of the Apes</td>\n",
              "      <td>710644566</td>\n",
              "      <td>243</td>\n",
              "      <td>2014-06-26</td>\n",
              "      <td>Matt Reeves</td>\n",
              "    </tr>\n",
              "    <tr>\n",
              "      <th>8</th>\n",
              "      <td>The Hunger Games: Mockingjay - Part 1</td>\n",
              "      <td>752100229</td>\n",
              "      <td>206</td>\n",
              "      <td>2014-11-18</td>\n",
              "      <td>Francis Lawrence</td>\n",
              "    </tr>\n",
              "    <tr>\n",
              "      <th>9</th>\n",
              "      <td>Big Hero 6</td>\n",
              "      <td>652105443</td>\n",
              "      <td>203</td>\n",
              "      <td>2014-10-24</td>\n",
              "      <td>Chris Williams</td>\n",
              "    </tr>\n",
              "  </tbody>\n",
              "</table>\n",
              "</div>\n",
              "      <button class=\"colab-df-convert\" onclick=\"convertToInteractive('df-3c33133f-af25-42c5-8eb9-1e13bd1796c8')\"\n",
              "              title=\"Convert this dataframe to an interactive table.\"\n",
              "              style=\"display:none;\">\n",
              "        \n",
              "  <svg xmlns=\"http://www.w3.org/2000/svg\" height=\"24px\"viewBox=\"0 0 24 24\"\n",
              "       width=\"24px\">\n",
              "    <path d=\"M0 0h24v24H0V0z\" fill=\"none\"/>\n",
              "    <path d=\"M18.56 5.44l.94 2.06.94-2.06 2.06-.94-2.06-.94-.94-2.06-.94 2.06-2.06.94zm-11 1L8.5 8.5l.94-2.06 2.06-.94-2.06-.94L8.5 2.5l-.94 2.06-2.06.94zm10 10l.94 2.06.94-2.06 2.06-.94-2.06-.94-.94-2.06-.94 2.06-2.06.94z\"/><path d=\"M17.41 7.96l-1.37-1.37c-.4-.4-.92-.59-1.43-.59-.52 0-1.04.2-1.43.59L10.3 9.45l-7.72 7.72c-.78.78-.78 2.05 0 2.83L4 21.41c.39.39.9.59 1.41.59.51 0 1.02-.2 1.41-.59l7.78-7.78 2.81-2.81c.8-.78.8-2.07 0-2.86zM5.41 20L4 18.59l7.72-7.72 1.47 1.35L5.41 20z\"/>\n",
              "  </svg>\n",
              "      </button>\n",
              "      \n",
              "  <style>\n",
              "    .colab-df-container {\n",
              "      display:flex;\n",
              "      flex-wrap:wrap;\n",
              "      gap: 12px;\n",
              "    }\n",
              "\n",
              "    .colab-df-convert {\n",
              "      background-color: #E8F0FE;\n",
              "      border: none;\n",
              "      border-radius: 50%;\n",
              "      cursor: pointer;\n",
              "      display: none;\n",
              "      fill: #1967D2;\n",
              "      height: 32px;\n",
              "      padding: 0 0 0 0;\n",
              "      width: 32px;\n",
              "    }\n",
              "\n",
              "    .colab-df-convert:hover {\n",
              "      background-color: #E2EBFA;\n",
              "      box-shadow: 0px 1px 2px rgba(60, 64, 67, 0.3), 0px 1px 3px 1px rgba(60, 64, 67, 0.15);\n",
              "      fill: #174EA6;\n",
              "    }\n",
              "\n",
              "    [theme=dark] .colab-df-convert {\n",
              "      background-color: #3B4455;\n",
              "      fill: #D2E3FC;\n",
              "    }\n",
              "\n",
              "    [theme=dark] .colab-df-convert:hover {\n",
              "      background-color: #434B5C;\n",
              "      box-shadow: 0px 1px 3px 1px rgba(0, 0, 0, 0.15);\n",
              "      filter: drop-shadow(0px 1px 2px rgba(0, 0, 0, 0.3));\n",
              "      fill: #FFFFFF;\n",
              "    }\n",
              "  </style>\n",
              "\n",
              "      <script>\n",
              "        const buttonEl =\n",
              "          document.querySelector('#df-3c33133f-af25-42c5-8eb9-1e13bd1796c8 button.colab-df-convert');\n",
              "        buttonEl.style.display =\n",
              "          google.colab.kernel.accessAllowed ? 'block' : 'none';\n",
              "\n",
              "        async function convertToInteractive(key) {\n",
              "          const element = document.querySelector('#df-3c33133f-af25-42c5-8eb9-1e13bd1796c8');\n",
              "          const dataTable =\n",
              "            await google.colab.kernel.invokeFunction('convertToInteractive',\n",
              "                                                     [key], {});\n",
              "          if (!dataTable) return;\n",
              "\n",
              "          const docLinkHtml = 'Like what you see? Visit the ' +\n",
              "            '<a target=\"_blank\" href=https://colab.research.google.com/notebooks/data_table.ipynb>data table notebook</a>'\n",
              "            + ' to learn more about interactive tables.';\n",
              "          element.innerHTML = '';\n",
              "          dataTable['output_type'] = 'display_data';\n",
              "          await google.colab.output.renderOutput(dataTable, element);\n",
              "          const docLink = document.createElement('div');\n",
              "          docLink.innerHTML = docLinkHtml;\n",
              "          element.appendChild(docLink);\n",
              "        }\n",
              "      </script>\n",
              "    </div>\n",
              "  </div>\n",
              "  "
            ]
          },
          "metadata": {},
          "execution_count": 49
        }
      ]
    },
    {
      "cell_type": "markdown",
      "source": [
        "# NOTE:"
      ],
      "metadata": {
        "id": "QgUQoSZnva6t"
      }
    },
    {
      "cell_type": "markdown",
      "source": [
        "The pup table Shows 10 Movies With The Highest Ranking By Popularity.\n",
        "\n",
        "Currently, Minions Directed By Kyle Balda Got The First Place With Score 875, Beating Interstellar(724) score As The Closest Competitor, Deadpool And The Other Competitors."
      ],
      "metadata": {
        "id": "xdkbaiAqvdXi"
      }
    },
    {
      "cell_type": "markdown",
      "source": [
        "# Revenue Analysis"
      ],
      "metadata": {
        "id": "WBxVy-nFbVD7"
      }
    },
    {
      "cell_type": "markdown",
      "source": [
        "**Question - What are the top 10 Revenue movies**"
      ],
      "metadata": {
        "id": "ILE2IHiXbX-b"
      }
    },
    {
      "cell_type": "code",
      "source": [
        "cur.execute(\"select original_title,revenue,release_date,name from movies join directors on movies.director_id=directors.id  order by revenue DESC limit 10\")\n",
        "rev=cur.fetchall()\n",
        "\n",
        "rev= pd.DataFrame(rev,columns = [\"name\",\"revenue\",\"release_date\",\"director_name\"])\n",
        "rev.head(10)"
      ],
      "metadata": {
        "colab": {
          "base_uri": "https://localhost:8080/",
          "height": 0
        },
        "id": "_Aw6n8gxbdTd",
        "outputId": "c3e0a89d-6e3f-4aab-f8a2-f4610e70c881"
      },
      "execution_count": 50,
      "outputs": [
        {
          "output_type": "execute_result",
          "data": {
            "text/plain": [
              "                         name     revenue release_date    director_name\n",
              "0                      Avatar  2787965087   2009-12-10    James Cameron\n",
              "1                     Titanic  1845034188   1997-11-18    James Cameron\n",
              "2                The Avengers  1519557910   2012-04-25      Joss Whedon\n",
              "3              Jurassic World  1513528810   2015-06-09  Colin Trevorrow\n",
              "4                   Furious 7  1506249360   2015-04-01        James Wan\n",
              "5     Avengers: Age of Ultron  1405403694   2015-04-22      Joss Whedon\n",
              "6                      Frozen  1274219009   2013-11-27       Chris Buck\n",
              "7                  Iron Man 3  1215439994   2013-04-18      Shane Black\n",
              "8                     Minions  1156730962   2015-06-17       Kyle Balda\n",
              "9  Captain America: Civil War  1153304495   2016-04-27    Anthony Russo"
            ],
            "text/html": [
              "\n",
              "  <div id=\"df-dfe75c29-bf3a-41fa-b115-397b664954ab\">\n",
              "    <div class=\"colab-df-container\">\n",
              "      <div>\n",
              "<style scoped>\n",
              "    .dataframe tbody tr th:only-of-type {\n",
              "        vertical-align: middle;\n",
              "    }\n",
              "\n",
              "    .dataframe tbody tr th {\n",
              "        vertical-align: top;\n",
              "    }\n",
              "\n",
              "    .dataframe thead th {\n",
              "        text-align: right;\n",
              "    }\n",
              "</style>\n",
              "<table border=\"1\" class=\"dataframe\">\n",
              "  <thead>\n",
              "    <tr style=\"text-align: right;\">\n",
              "      <th></th>\n",
              "      <th>name</th>\n",
              "      <th>revenue</th>\n",
              "      <th>release_date</th>\n",
              "      <th>director_name</th>\n",
              "    </tr>\n",
              "  </thead>\n",
              "  <tbody>\n",
              "    <tr>\n",
              "      <th>0</th>\n",
              "      <td>Avatar</td>\n",
              "      <td>2787965087</td>\n",
              "      <td>2009-12-10</td>\n",
              "      <td>James Cameron</td>\n",
              "    </tr>\n",
              "    <tr>\n",
              "      <th>1</th>\n",
              "      <td>Titanic</td>\n",
              "      <td>1845034188</td>\n",
              "      <td>1997-11-18</td>\n",
              "      <td>James Cameron</td>\n",
              "    </tr>\n",
              "    <tr>\n",
              "      <th>2</th>\n",
              "      <td>The Avengers</td>\n",
              "      <td>1519557910</td>\n",
              "      <td>2012-04-25</td>\n",
              "      <td>Joss Whedon</td>\n",
              "    </tr>\n",
              "    <tr>\n",
              "      <th>3</th>\n",
              "      <td>Jurassic World</td>\n",
              "      <td>1513528810</td>\n",
              "      <td>2015-06-09</td>\n",
              "      <td>Colin Trevorrow</td>\n",
              "    </tr>\n",
              "    <tr>\n",
              "      <th>4</th>\n",
              "      <td>Furious 7</td>\n",
              "      <td>1506249360</td>\n",
              "      <td>2015-04-01</td>\n",
              "      <td>James Wan</td>\n",
              "    </tr>\n",
              "    <tr>\n",
              "      <th>5</th>\n",
              "      <td>Avengers: Age of Ultron</td>\n",
              "      <td>1405403694</td>\n",
              "      <td>2015-04-22</td>\n",
              "      <td>Joss Whedon</td>\n",
              "    </tr>\n",
              "    <tr>\n",
              "      <th>6</th>\n",
              "      <td>Frozen</td>\n",
              "      <td>1274219009</td>\n",
              "      <td>2013-11-27</td>\n",
              "      <td>Chris Buck</td>\n",
              "    </tr>\n",
              "    <tr>\n",
              "      <th>7</th>\n",
              "      <td>Iron Man 3</td>\n",
              "      <td>1215439994</td>\n",
              "      <td>2013-04-18</td>\n",
              "      <td>Shane Black</td>\n",
              "    </tr>\n",
              "    <tr>\n",
              "      <th>8</th>\n",
              "      <td>Minions</td>\n",
              "      <td>1156730962</td>\n",
              "      <td>2015-06-17</td>\n",
              "      <td>Kyle Balda</td>\n",
              "    </tr>\n",
              "    <tr>\n",
              "      <th>9</th>\n",
              "      <td>Captain America: Civil War</td>\n",
              "      <td>1153304495</td>\n",
              "      <td>2016-04-27</td>\n",
              "      <td>Anthony Russo</td>\n",
              "    </tr>\n",
              "  </tbody>\n",
              "</table>\n",
              "</div>\n",
              "      <button class=\"colab-df-convert\" onclick=\"convertToInteractive('df-dfe75c29-bf3a-41fa-b115-397b664954ab')\"\n",
              "              title=\"Convert this dataframe to an interactive table.\"\n",
              "              style=\"display:none;\">\n",
              "        \n",
              "  <svg xmlns=\"http://www.w3.org/2000/svg\" height=\"24px\"viewBox=\"0 0 24 24\"\n",
              "       width=\"24px\">\n",
              "    <path d=\"M0 0h24v24H0V0z\" fill=\"none\"/>\n",
              "    <path d=\"M18.56 5.44l.94 2.06.94-2.06 2.06-.94-2.06-.94-.94-2.06-.94 2.06-2.06.94zm-11 1L8.5 8.5l.94-2.06 2.06-.94-2.06-.94L8.5 2.5l-.94 2.06-2.06.94zm10 10l.94 2.06.94-2.06 2.06-.94-2.06-.94-.94-2.06-.94 2.06-2.06.94z\"/><path d=\"M17.41 7.96l-1.37-1.37c-.4-.4-.92-.59-1.43-.59-.52 0-1.04.2-1.43.59L10.3 9.45l-7.72 7.72c-.78.78-.78 2.05 0 2.83L4 21.41c.39.39.9.59 1.41.59.51 0 1.02-.2 1.41-.59l7.78-7.78 2.81-2.81c.8-.78.8-2.07 0-2.86zM5.41 20L4 18.59l7.72-7.72 1.47 1.35L5.41 20z\"/>\n",
              "  </svg>\n",
              "      </button>\n",
              "      \n",
              "  <style>\n",
              "    .colab-df-container {\n",
              "      display:flex;\n",
              "      flex-wrap:wrap;\n",
              "      gap: 12px;\n",
              "    }\n",
              "\n",
              "    .colab-df-convert {\n",
              "      background-color: #E8F0FE;\n",
              "      border: none;\n",
              "      border-radius: 50%;\n",
              "      cursor: pointer;\n",
              "      display: none;\n",
              "      fill: #1967D2;\n",
              "      height: 32px;\n",
              "      padding: 0 0 0 0;\n",
              "      width: 32px;\n",
              "    }\n",
              "\n",
              "    .colab-df-convert:hover {\n",
              "      background-color: #E2EBFA;\n",
              "      box-shadow: 0px 1px 2px rgba(60, 64, 67, 0.3), 0px 1px 3px 1px rgba(60, 64, 67, 0.15);\n",
              "      fill: #174EA6;\n",
              "    }\n",
              "\n",
              "    [theme=dark] .colab-df-convert {\n",
              "      background-color: #3B4455;\n",
              "      fill: #D2E3FC;\n",
              "    }\n",
              "\n",
              "    [theme=dark] .colab-df-convert:hover {\n",
              "      background-color: #434B5C;\n",
              "      box-shadow: 0px 1px 3px 1px rgba(0, 0, 0, 0.15);\n",
              "      filter: drop-shadow(0px 1px 2px rgba(0, 0, 0, 0.3));\n",
              "      fill: #FFFFFF;\n",
              "    }\n",
              "  </style>\n",
              "\n",
              "      <script>\n",
              "        const buttonEl =\n",
              "          document.querySelector('#df-dfe75c29-bf3a-41fa-b115-397b664954ab button.colab-df-convert');\n",
              "        buttonEl.style.display =\n",
              "          google.colab.kernel.accessAllowed ? 'block' : 'none';\n",
              "\n",
              "        async function convertToInteractive(key) {\n",
              "          const element = document.querySelector('#df-dfe75c29-bf3a-41fa-b115-397b664954ab');\n",
              "          const dataTable =\n",
              "            await google.colab.kernel.invokeFunction('convertToInteractive',\n",
              "                                                     [key], {});\n",
              "          if (!dataTable) return;\n",
              "\n",
              "          const docLinkHtml = 'Like what you see? Visit the ' +\n",
              "            '<a target=\"_blank\" href=https://colab.research.google.com/notebooks/data_table.ipynb>data table notebook</a>'\n",
              "            + ' to learn more about interactive tables.';\n",
              "          element.innerHTML = '';\n",
              "          dataTable['output_type'] = 'display_data';\n",
              "          await google.colab.output.renderOutput(dataTable, element);\n",
              "          const docLink = document.createElement('div');\n",
              "          docLink.innerHTML = docLinkHtml;\n",
              "          element.appendChild(docLink);\n",
              "        }\n",
              "      </script>\n",
              "    </div>\n",
              "  </div>\n",
              "  "
            ]
          },
          "metadata": {},
          "execution_count": 50
        }
      ]
    },
    {
      "cell_type": "markdown",
      "source": [
        "# NOTE:"
      ],
      "metadata": {
        "id": "A_HUMhNyv1QB"
      }
    },
    {
      "cell_type": "markdown",
      "source": [
        "The rev table shows the The 10 Movies that Got The Highest Gross Profit When Compared To The Other Movies.\n",
        "\n",
        "It Turns Out That Avatar Directed By James Cameron Got A Gross Profit USD 2,787,965,087. It's Make Avatar In First Place, Followed By Titanic, The Avengers, Jurassic World, And Others.\n",
        "\n",
        "From the above table , we can cocnclude that both of the two most grossing movies are directed by James Cameron."
      ],
      "metadata": {
        "id": "MuJl3MnXv4Bw"
      }
    },
    {
      "cell_type": "markdown",
      "source": [
        "Question - Display most popular movies with vote_average directed by James Cameron"
      ],
      "metadata": {
        "id": "YYjzeUm_kW0G"
      }
    },
    {
      "cell_type": "code",
      "source": [
        "cur.execute(\"select original_title,release_date,budget,revenue,popularity,vote_average from movies join directors on movies.director_id=directors.id where name='James Cameron' order by revenue DESC limit 10\")\n",
        "avg=cur.fetchall()\n",
        "\n",
        "avg = pd.DataFrame(avg,columns=[\"movie\",\"release_date\",\"budget\",\"revenue\",\"popularity\",\"voting_average\"])\n",
        "avg.head(10)"
      ],
      "metadata": {
        "colab": {
          "base_uri": "https://localhost:8080/",
          "height": 0
        },
        "id": "c4q-6zkvkfdI",
        "outputId": "4b6d5d14-b06b-44d1-94b0-325d6cf3105f"
      },
      "execution_count": 51,
      "outputs": [
        {
          "output_type": "execute_result",
          "data": {
            "text/plain": [
              "                        movie release_date     budget     revenue  popularity  \\\n",
              "0                      Avatar   2009-12-10  237000000  2787965087         150   \n",
              "1                     Titanic   1997-11-18  200000000  1845034188         100   \n",
              "2  Terminator 2: Judgment Day   1991-07-01  100000000   520000000         101   \n",
              "3                   True Lies   1994-07-14  115000000   378882411          38   \n",
              "4                      Aliens   1986-07-18   18500000   183316455          67   \n",
              "5                   The Abyss   1989-08-09   70000000    90000098          24   \n",
              "6              The Terminator   1984-10-26    6400000    78371200          74   \n",
              "\n",
              "   voting_average  \n",
              "0             7.2  \n",
              "1             7.5  \n",
              "2             7.7  \n",
              "3             6.8  \n",
              "4             7.7  \n",
              "5             7.1  \n",
              "6             7.3  "
            ],
            "text/html": [
              "\n",
              "  <div id=\"df-0dc04fc5-ea20-4ca7-bfea-b41d1272d9ea\">\n",
              "    <div class=\"colab-df-container\">\n",
              "      <div>\n",
              "<style scoped>\n",
              "    .dataframe tbody tr th:only-of-type {\n",
              "        vertical-align: middle;\n",
              "    }\n",
              "\n",
              "    .dataframe tbody tr th {\n",
              "        vertical-align: top;\n",
              "    }\n",
              "\n",
              "    .dataframe thead th {\n",
              "        text-align: right;\n",
              "    }\n",
              "</style>\n",
              "<table border=\"1\" class=\"dataframe\">\n",
              "  <thead>\n",
              "    <tr style=\"text-align: right;\">\n",
              "      <th></th>\n",
              "      <th>movie</th>\n",
              "      <th>release_date</th>\n",
              "      <th>budget</th>\n",
              "      <th>revenue</th>\n",
              "      <th>popularity</th>\n",
              "      <th>voting_average</th>\n",
              "    </tr>\n",
              "  </thead>\n",
              "  <tbody>\n",
              "    <tr>\n",
              "      <th>0</th>\n",
              "      <td>Avatar</td>\n",
              "      <td>2009-12-10</td>\n",
              "      <td>237000000</td>\n",
              "      <td>2787965087</td>\n",
              "      <td>150</td>\n",
              "      <td>7.2</td>\n",
              "    </tr>\n",
              "    <tr>\n",
              "      <th>1</th>\n",
              "      <td>Titanic</td>\n",
              "      <td>1997-11-18</td>\n",
              "      <td>200000000</td>\n",
              "      <td>1845034188</td>\n",
              "      <td>100</td>\n",
              "      <td>7.5</td>\n",
              "    </tr>\n",
              "    <tr>\n",
              "      <th>2</th>\n",
              "      <td>Terminator 2: Judgment Day</td>\n",
              "      <td>1991-07-01</td>\n",
              "      <td>100000000</td>\n",
              "      <td>520000000</td>\n",
              "      <td>101</td>\n",
              "      <td>7.7</td>\n",
              "    </tr>\n",
              "    <tr>\n",
              "      <th>3</th>\n",
              "      <td>True Lies</td>\n",
              "      <td>1994-07-14</td>\n",
              "      <td>115000000</td>\n",
              "      <td>378882411</td>\n",
              "      <td>38</td>\n",
              "      <td>6.8</td>\n",
              "    </tr>\n",
              "    <tr>\n",
              "      <th>4</th>\n",
              "      <td>Aliens</td>\n",
              "      <td>1986-07-18</td>\n",
              "      <td>18500000</td>\n",
              "      <td>183316455</td>\n",
              "      <td>67</td>\n",
              "      <td>7.7</td>\n",
              "    </tr>\n",
              "    <tr>\n",
              "      <th>5</th>\n",
              "      <td>The Abyss</td>\n",
              "      <td>1989-08-09</td>\n",
              "      <td>70000000</td>\n",
              "      <td>90000098</td>\n",
              "      <td>24</td>\n",
              "      <td>7.1</td>\n",
              "    </tr>\n",
              "    <tr>\n",
              "      <th>6</th>\n",
              "      <td>The Terminator</td>\n",
              "      <td>1984-10-26</td>\n",
              "      <td>6400000</td>\n",
              "      <td>78371200</td>\n",
              "      <td>74</td>\n",
              "      <td>7.3</td>\n",
              "    </tr>\n",
              "  </tbody>\n",
              "</table>\n",
              "</div>\n",
              "      <button class=\"colab-df-convert\" onclick=\"convertToInteractive('df-0dc04fc5-ea20-4ca7-bfea-b41d1272d9ea')\"\n",
              "              title=\"Convert this dataframe to an interactive table.\"\n",
              "              style=\"display:none;\">\n",
              "        \n",
              "  <svg xmlns=\"http://www.w3.org/2000/svg\" height=\"24px\"viewBox=\"0 0 24 24\"\n",
              "       width=\"24px\">\n",
              "    <path d=\"M0 0h24v24H0V0z\" fill=\"none\"/>\n",
              "    <path d=\"M18.56 5.44l.94 2.06.94-2.06 2.06-.94-2.06-.94-.94-2.06-.94 2.06-2.06.94zm-11 1L8.5 8.5l.94-2.06 2.06-.94-2.06-.94L8.5 2.5l-.94 2.06-2.06.94zm10 10l.94 2.06.94-2.06 2.06-.94-2.06-.94-.94-2.06-.94 2.06-2.06.94z\"/><path d=\"M17.41 7.96l-1.37-1.37c-.4-.4-.92-.59-1.43-.59-.52 0-1.04.2-1.43.59L10.3 9.45l-7.72 7.72c-.78.78-.78 2.05 0 2.83L4 21.41c.39.39.9.59 1.41.59.51 0 1.02-.2 1.41-.59l7.78-7.78 2.81-2.81c.8-.78.8-2.07 0-2.86zM5.41 20L4 18.59l7.72-7.72 1.47 1.35L5.41 20z\"/>\n",
              "  </svg>\n",
              "      </button>\n",
              "      \n",
              "  <style>\n",
              "    .colab-df-container {\n",
              "      display:flex;\n",
              "      flex-wrap:wrap;\n",
              "      gap: 12px;\n",
              "    }\n",
              "\n",
              "    .colab-df-convert {\n",
              "      background-color: #E8F0FE;\n",
              "      border: none;\n",
              "      border-radius: 50%;\n",
              "      cursor: pointer;\n",
              "      display: none;\n",
              "      fill: #1967D2;\n",
              "      height: 32px;\n",
              "      padding: 0 0 0 0;\n",
              "      width: 32px;\n",
              "    }\n",
              "\n",
              "    .colab-df-convert:hover {\n",
              "      background-color: #E2EBFA;\n",
              "      box-shadow: 0px 1px 2px rgba(60, 64, 67, 0.3), 0px 1px 3px 1px rgba(60, 64, 67, 0.15);\n",
              "      fill: #174EA6;\n",
              "    }\n",
              "\n",
              "    [theme=dark] .colab-df-convert {\n",
              "      background-color: #3B4455;\n",
              "      fill: #D2E3FC;\n",
              "    }\n",
              "\n",
              "    [theme=dark] .colab-df-convert:hover {\n",
              "      background-color: #434B5C;\n",
              "      box-shadow: 0px 1px 3px 1px rgba(0, 0, 0, 0.15);\n",
              "      filter: drop-shadow(0px 1px 2px rgba(0, 0, 0, 0.3));\n",
              "      fill: #FFFFFF;\n",
              "    }\n",
              "  </style>\n",
              "\n",
              "      <script>\n",
              "        const buttonEl =\n",
              "          document.querySelector('#df-0dc04fc5-ea20-4ca7-bfea-b41d1272d9ea button.colab-df-convert');\n",
              "        buttonEl.style.display =\n",
              "          google.colab.kernel.accessAllowed ? 'block' : 'none';\n",
              "\n",
              "        async function convertToInteractive(key) {\n",
              "          const element = document.querySelector('#df-0dc04fc5-ea20-4ca7-bfea-b41d1272d9ea');\n",
              "          const dataTable =\n",
              "            await google.colab.kernel.invokeFunction('convertToInteractive',\n",
              "                                                     [key], {});\n",
              "          if (!dataTable) return;\n",
              "\n",
              "          const docLinkHtml = 'Like what you see? Visit the ' +\n",
              "            '<a target=\"_blank\" href=https://colab.research.google.com/notebooks/data_table.ipynb>data table notebook</a>'\n",
              "            + ' to learn more about interactive tables.';\n",
              "          element.innerHTML = '';\n",
              "          dataTable['output_type'] = 'display_data';\n",
              "          await google.colab.output.renderOutput(dataTable, element);\n",
              "          const docLink = document.createElement('div');\n",
              "          docLink.innerHTML = docLinkHtml;\n",
              "          element.appendChild(docLink);\n",
              "        }\n",
              "      </script>\n",
              "    </div>\n",
              "  </div>\n",
              "  "
            ]
          },
          "metadata": {},
          "execution_count": 51
        }
      ]
    },
    {
      "cell_type": "markdown",
      "source": [
        "**NOTE** \n",
        "\n",
        "The avg table shows all the movies directed by James Cameron."
      ],
      "metadata": {
        "id": "19Ok-TUbwtDL"
      }
    },
    {
      "cell_type": "markdown",
      "source": [
        "# Voting Analysis"
      ],
      "metadata": {
        "id": "Wg9yNmlkmYrR"
      }
    },
    {
      "cell_type": "markdown",
      "source": [
        "Question - List out Particular movie for Voting average and votecount"
      ],
      "metadata": {
        "id": "FAR_yGbzmdHB"
      }
    },
    {
      "cell_type": "code",
      "source": [
        "cur.execute(\"select original_title,release_date,budget,vote_average,vote_count,name from movies join directors on movies.director_id=directors.id order by vote_average DESC\")\n",
        "vot=cur.fetchall()\n",
        "\n",
        "vot=pd.DataFrame(vot,columns =[\"movie_name\",\"release_date\",\"budget\",\"vote_average\",\"vote_count\",\"name\"])\n",
        "vot.head(10)"
      ],
      "metadata": {
        "colab": {
          "base_uri": "https://localhost:8080/",
          "height": 0
        },
        "id": "YakjDT_emiVT",
        "outputId": "1d062672-79c7-4ed5-f30e-c0125535d835"
      },
      "execution_count": 52,
      "outputs": [
        {
          "output_type": "execute_result",
          "data": {
            "text/plain": [
              "                 movie_name release_date    budget  vote_average  vote_count  \\\n",
              "0          Stiff Upper Lips   1998-06-12         0          10.0           1   \n",
              "1     Dancer, Texas Pop. 81   1998-05-01         0          10.0           1   \n",
              "2                 Sardaarji   2015-06-26         0           9.5           2   \n",
              "3            One Man's Hero   1999-08-02         0           9.3           2   \n",
              "4  The Shawshank Redemption   1994-09-23  25000000           8.5        8205   \n",
              "5        There Goes My Baby   1994-09-02  10500000           8.5           2   \n",
              "6     The Prisoner of Zenda   1937-09-03         0           8.4          11   \n",
              "7             The Godfather   1972-03-14   6000000           8.4        5893   \n",
              "8                Fight Club   1999-10-15  63000000           8.3        9413   \n",
              "9          Schindler's List   1993-11-29  22000000           8.3        4329   \n",
              "\n",
              "                   name  \n",
              "0           Gary Sinyor  \n",
              "1         Tim McCanlies  \n",
              "2          Rohit Jugraj  \n",
              "3            Lance Hool  \n",
              "4        Frank Darabont  \n",
              "5          Floyd Mutrux  \n",
              "6         John Cromwell  \n",
              "7  Francis Ford Coppola  \n",
              "8         David Fincher  \n",
              "9      Steven Spielberg  "
            ],
            "text/html": [
              "\n",
              "  <div id=\"df-c51f5b4f-a253-41bb-a656-2401454ccf86\">\n",
              "    <div class=\"colab-df-container\">\n",
              "      <div>\n",
              "<style scoped>\n",
              "    .dataframe tbody tr th:only-of-type {\n",
              "        vertical-align: middle;\n",
              "    }\n",
              "\n",
              "    .dataframe tbody tr th {\n",
              "        vertical-align: top;\n",
              "    }\n",
              "\n",
              "    .dataframe thead th {\n",
              "        text-align: right;\n",
              "    }\n",
              "</style>\n",
              "<table border=\"1\" class=\"dataframe\">\n",
              "  <thead>\n",
              "    <tr style=\"text-align: right;\">\n",
              "      <th></th>\n",
              "      <th>movie_name</th>\n",
              "      <th>release_date</th>\n",
              "      <th>budget</th>\n",
              "      <th>vote_average</th>\n",
              "      <th>vote_count</th>\n",
              "      <th>name</th>\n",
              "    </tr>\n",
              "  </thead>\n",
              "  <tbody>\n",
              "    <tr>\n",
              "      <th>0</th>\n",
              "      <td>Stiff Upper Lips</td>\n",
              "      <td>1998-06-12</td>\n",
              "      <td>0</td>\n",
              "      <td>10.0</td>\n",
              "      <td>1</td>\n",
              "      <td>Gary Sinyor</td>\n",
              "    </tr>\n",
              "    <tr>\n",
              "      <th>1</th>\n",
              "      <td>Dancer, Texas Pop. 81</td>\n",
              "      <td>1998-05-01</td>\n",
              "      <td>0</td>\n",
              "      <td>10.0</td>\n",
              "      <td>1</td>\n",
              "      <td>Tim McCanlies</td>\n",
              "    </tr>\n",
              "    <tr>\n",
              "      <th>2</th>\n",
              "      <td>Sardaarji</td>\n",
              "      <td>2015-06-26</td>\n",
              "      <td>0</td>\n",
              "      <td>9.5</td>\n",
              "      <td>2</td>\n",
              "      <td>Rohit Jugraj</td>\n",
              "    </tr>\n",
              "    <tr>\n",
              "      <th>3</th>\n",
              "      <td>One Man's Hero</td>\n",
              "      <td>1999-08-02</td>\n",
              "      <td>0</td>\n",
              "      <td>9.3</td>\n",
              "      <td>2</td>\n",
              "      <td>Lance Hool</td>\n",
              "    </tr>\n",
              "    <tr>\n",
              "      <th>4</th>\n",
              "      <td>The Shawshank Redemption</td>\n",
              "      <td>1994-09-23</td>\n",
              "      <td>25000000</td>\n",
              "      <td>8.5</td>\n",
              "      <td>8205</td>\n",
              "      <td>Frank Darabont</td>\n",
              "    </tr>\n",
              "    <tr>\n",
              "      <th>5</th>\n",
              "      <td>There Goes My Baby</td>\n",
              "      <td>1994-09-02</td>\n",
              "      <td>10500000</td>\n",
              "      <td>8.5</td>\n",
              "      <td>2</td>\n",
              "      <td>Floyd Mutrux</td>\n",
              "    </tr>\n",
              "    <tr>\n",
              "      <th>6</th>\n",
              "      <td>The Prisoner of Zenda</td>\n",
              "      <td>1937-09-03</td>\n",
              "      <td>0</td>\n",
              "      <td>8.4</td>\n",
              "      <td>11</td>\n",
              "      <td>John Cromwell</td>\n",
              "    </tr>\n",
              "    <tr>\n",
              "      <th>7</th>\n",
              "      <td>The Godfather</td>\n",
              "      <td>1972-03-14</td>\n",
              "      <td>6000000</td>\n",
              "      <td>8.4</td>\n",
              "      <td>5893</td>\n",
              "      <td>Francis Ford Coppola</td>\n",
              "    </tr>\n",
              "    <tr>\n",
              "      <th>8</th>\n",
              "      <td>Fight Club</td>\n",
              "      <td>1999-10-15</td>\n",
              "      <td>63000000</td>\n",
              "      <td>8.3</td>\n",
              "      <td>9413</td>\n",
              "      <td>David Fincher</td>\n",
              "    </tr>\n",
              "    <tr>\n",
              "      <th>9</th>\n",
              "      <td>Schindler's List</td>\n",
              "      <td>1993-11-29</td>\n",
              "      <td>22000000</td>\n",
              "      <td>8.3</td>\n",
              "      <td>4329</td>\n",
              "      <td>Steven Spielberg</td>\n",
              "    </tr>\n",
              "  </tbody>\n",
              "</table>\n",
              "</div>\n",
              "      <button class=\"colab-df-convert\" onclick=\"convertToInteractive('df-c51f5b4f-a253-41bb-a656-2401454ccf86')\"\n",
              "              title=\"Convert this dataframe to an interactive table.\"\n",
              "              style=\"display:none;\">\n",
              "        \n",
              "  <svg xmlns=\"http://www.w3.org/2000/svg\" height=\"24px\"viewBox=\"0 0 24 24\"\n",
              "       width=\"24px\">\n",
              "    <path d=\"M0 0h24v24H0V0z\" fill=\"none\"/>\n",
              "    <path d=\"M18.56 5.44l.94 2.06.94-2.06 2.06-.94-2.06-.94-.94-2.06-.94 2.06-2.06.94zm-11 1L8.5 8.5l.94-2.06 2.06-.94-2.06-.94L8.5 2.5l-.94 2.06-2.06.94zm10 10l.94 2.06.94-2.06 2.06-.94-2.06-.94-.94-2.06-.94 2.06-2.06.94z\"/><path d=\"M17.41 7.96l-1.37-1.37c-.4-.4-.92-.59-1.43-.59-.52 0-1.04.2-1.43.59L10.3 9.45l-7.72 7.72c-.78.78-.78 2.05 0 2.83L4 21.41c.39.39.9.59 1.41.59.51 0 1.02-.2 1.41-.59l7.78-7.78 2.81-2.81c.8-.78.8-2.07 0-2.86zM5.41 20L4 18.59l7.72-7.72 1.47 1.35L5.41 20z\"/>\n",
              "  </svg>\n",
              "      </button>\n",
              "      \n",
              "  <style>\n",
              "    .colab-df-container {\n",
              "      display:flex;\n",
              "      flex-wrap:wrap;\n",
              "      gap: 12px;\n",
              "    }\n",
              "\n",
              "    .colab-df-convert {\n",
              "      background-color: #E8F0FE;\n",
              "      border: none;\n",
              "      border-radius: 50%;\n",
              "      cursor: pointer;\n",
              "      display: none;\n",
              "      fill: #1967D2;\n",
              "      height: 32px;\n",
              "      padding: 0 0 0 0;\n",
              "      width: 32px;\n",
              "    }\n",
              "\n",
              "    .colab-df-convert:hover {\n",
              "      background-color: #E2EBFA;\n",
              "      box-shadow: 0px 1px 2px rgba(60, 64, 67, 0.3), 0px 1px 3px 1px rgba(60, 64, 67, 0.15);\n",
              "      fill: #174EA6;\n",
              "    }\n",
              "\n",
              "    [theme=dark] .colab-df-convert {\n",
              "      background-color: #3B4455;\n",
              "      fill: #D2E3FC;\n",
              "    }\n",
              "\n",
              "    [theme=dark] .colab-df-convert:hover {\n",
              "      background-color: #434B5C;\n",
              "      box-shadow: 0px 1px 3px 1px rgba(0, 0, 0, 0.15);\n",
              "      filter: drop-shadow(0px 1px 2px rgba(0, 0, 0, 0.3));\n",
              "      fill: #FFFFFF;\n",
              "    }\n",
              "  </style>\n",
              "\n",
              "      <script>\n",
              "        const buttonEl =\n",
              "          document.querySelector('#df-c51f5b4f-a253-41bb-a656-2401454ccf86 button.colab-df-convert');\n",
              "        buttonEl.style.display =\n",
              "          google.colab.kernel.accessAllowed ? 'block' : 'none';\n",
              "\n",
              "        async function convertToInteractive(key) {\n",
              "          const element = document.querySelector('#df-c51f5b4f-a253-41bb-a656-2401454ccf86');\n",
              "          const dataTable =\n",
              "            await google.colab.kernel.invokeFunction('convertToInteractive',\n",
              "                                                     [key], {});\n",
              "          if (!dataTable) return;\n",
              "\n",
              "          const docLinkHtml = 'Like what you see? Visit the ' +\n",
              "            '<a target=\"_blank\" href=https://colab.research.google.com/notebooks/data_table.ipynb>data table notebook</a>'\n",
              "            + ' to learn more about interactive tables.';\n",
              "          element.innerHTML = '';\n",
              "          dataTable['output_type'] = 'display_data';\n",
              "          await google.colab.output.renderOutput(dataTable, element);\n",
              "          const docLink = document.createElement('div');\n",
              "          docLink.innerHTML = docLinkHtml;\n",
              "          element.appendChild(docLink);\n",
              "        }\n",
              "      </script>\n",
              "    </div>\n",
              "  </div>\n",
              "  "
            ]
          },
          "metadata": {},
          "execution_count": 52
        }
      ]
    },
    {
      "cell_type": "markdown",
      "source": [
        "# NOTE:"
      ],
      "metadata": {
        "id": "zFrG8mUaxH5k"
      }
    },
    {
      "cell_type": "markdown",
      "source": [
        "vot Table Contains The Best Movies By Vote. Stiff Upper Lips, Directed By Gary Sinyor And Dancer, Texas Pop. 81 Directed by the MacCanlies Was Successfully Becomes the Best Movies By Vote With Perfect Score, 10.\n",
        "\n",
        "However, There Are Anomalies. It Turned Out That The Two Movies Were Only Vote By One Person. So, Likely to Affect The Assessment Results.."
      ],
      "metadata": {
        "id": "0C_ou4BqxLLg"
      }
    },
    {
      "cell_type": "markdown",
      "source": [
        "# CORRELATION"
      ],
      "metadata": {
        "id": "u4M-GbMPn11U"
      }
    },
    {
      "cell_type": "code",
      "source": [
        "#checking correlation between several numerical attributes using heatmap from seaborn library\n",
        "\n",
        "sb.set(rc = {'figure.figsize': (10, 10)})\n",
        "sb.heatmap(movies[['budget', 'popularity', 'revenue', 'vote_average', 'director_id']].corr(), \n",
        "            annot = True, fmt = '.2f', linewidth = 0.8);"
      ],
      "metadata": {
        "colab": {
          "base_uri": "https://localhost:8080/",
          "height": 599
        },
        "id": "q0UbDQwmn6rA",
        "outputId": "d2e9ebe9-a024-46bb-a9d7-883f92ebaf95"
      },
      "execution_count": 53,
      "outputs": [
        {
          "output_type": "display_data",
          "data": {
            "text/plain": [
              "<Figure size 720x720 with 2 Axes>"
            ],
            "image/png": "[encoded data removed]"
          },
          "metadata": {}
        }
      ]
    },
    {
      "cell_type": "markdown",
      "source": [
        "# NOTE on Correlation:"
      ],
      "metadata": {
        "id": "NDLco-1yxosq"
      }
    },
    {
      "cell_type": "markdown",
      "source": [
        "The Heat Map Graph Shows The Effect Between One Variable To The Other Variables. \n",
        "\n",
        "In The Graph, It Is Clear That budget Has The Greatest Impact on revenue with 0.73. \n",
        "\n",
        "Meanwhile, popularity Is Quite Impact On revenue, And director_id Which Means director_name Also Has A Correlation With revenue, Even Though It Is Small. \n",
        "\n",
        "However, vote_average Has A Very Small Correlation With revenue."
      ],
      "metadata": {
        "id": "cnbda4J8xscj"
      }
    },
    {
      "cell_type": "markdown",
      "source": [
        "# Directors"
      ],
      "metadata": {
        "id": "y-DJN2GJorJG"
      }
    },
    {
      "cell_type": "markdown",
      "source": [
        "Question- List out the director names with number of movies and revenue"
      ],
      "metadata": {
        "id": "YjDs4RZrouk2"
      }
    },
    {
      "cell_type": "code",
      "source": [
        "cur.execute(\"select name,count(original_title),sum(revenue) from movies join directors on movies.director_id = directors.id group by name order by sum(revenue) DESC\")\n",
        "mostProfitableDirector=cur.fetchall()\n",
        "\n",
        "mostProfitableDirector=pd.DataFrame(mostProfitableDirector,columns=[\"director_name\",\"total_count_movies\",\"total revenue\"])\n",
        "mostProfitableDirector.head(10)"
      ],
      "metadata": {
        "colab": {
          "base_uri": "https://localhost:8080/",
          "height": 363
        },
        "id": "PuvdAgGmotb_",
        "outputId": "156ed691-7f6c-496f-fb32-76f3c5739e43"
      },
      "execution_count": 54,
      "outputs": [
        {
          "output_type": "execute_result",
          "data": {
            "text/plain": [
              "       director_name  total_count_movies  total revenue\n",
              "0   Steven Spielberg                  27     9147393164\n",
              "1      Peter Jackson                   9     6498642820\n",
              "2      James Cameron                   7     5883569439\n",
              "3        Michael Bay                  12     5832524638\n",
              "4  Christopher Nolan                   8     4227483234\n",
              "5     Chris Columbus                  11     3725631503\n",
              "6    Robert Zemeckis                  13     3590622002\n",
              "7       George Lucas                   5     3339113893\n",
              "8         Tim Burton                  14     3337418241\n",
              "9       Ridley Scott                  16     3189557997"
            ],
            "text/html": [
              "\n",
              "  <div id=\"df-9d7c547d-6a3f-4599-b866-9684fb094772\">\n",
              "    <div class=\"colab-df-container\">\n",
              "      <div>\n",
              "<style scoped>\n",
              "    .dataframe tbody tr th:only-of-type {\n",
              "        vertical-align: middle;\n",
              "    }\n",
              "\n",
              "    .dataframe tbody tr th {\n",
              "        vertical-align: top;\n",
              "    }\n",
              "\n",
              "    .dataframe thead th {\n",
              "        text-align: right;\n",
              "    }\n",
              "</style>\n",
              "<table border=\"1\" class=\"dataframe\">\n",
              "  <thead>\n",
              "    <tr style=\"text-align: right;\">\n",
              "      <th></th>\n",
              "      <th>director_name</th>\n",
              "      <th>total_count_movies</th>\n",
              "      <th>total revenue</th>\n",
              "    </tr>\n",
              "  </thead>\n",
              "  <tbody>\n",
              "    <tr>\n",
              "      <th>0</th>\n",
              "      <td>Steven Spielberg</td>\n",
              "      <td>27</td>\n",
              "      <td>9147393164</td>\n",
              "    </tr>\n",
              "    <tr>\n",
              "      <th>1</th>\n",
              "      <td>Peter Jackson</td>\n",
              "      <td>9</td>\n",
              "      <td>6498642820</td>\n",
              "    </tr>\n",
              "    <tr>\n",
              "      <th>2</th>\n",
              "      <td>James Cameron</td>\n",
              "      <td>7</td>\n",
              "      <td>5883569439</td>\n",
              "    </tr>\n",
              "    <tr>\n",
              "      <th>3</th>\n",
              "      <td>Michael Bay</td>\n",
              "      <td>12</td>\n",
              "      <td>5832524638</td>\n",
              "    </tr>\n",
              "    <tr>\n",
              "      <th>4</th>\n",
              "      <td>Christopher Nolan</td>\n",
              "      <td>8</td>\n",
              "      <td>4227483234</td>\n",
              "    </tr>\n",
              "    <tr>\n",
              "      <th>5</th>\n",
              "      <td>Chris Columbus</td>\n",
              "      <td>11</td>\n",
              "      <td>3725631503</td>\n",
              "    </tr>\n",
              "    <tr>\n",
              "      <th>6</th>\n",
              "      <td>Robert Zemeckis</td>\n",
              "      <td>13</td>\n",
              "      <td>3590622002</td>\n",
              "    </tr>\n",
              "    <tr>\n",
              "      <th>7</th>\n",
              "      <td>George Lucas</td>\n",
              "      <td>5</td>\n",
              "      <td>3339113893</td>\n",
              "    </tr>\n",
              "    <tr>\n",
              "      <th>8</th>\n",
              "      <td>Tim Burton</td>\n",
              "      <td>14</td>\n",
              "      <td>3337418241</td>\n",
              "    </tr>\n",
              "    <tr>\n",
              "      <th>9</th>\n",
              "      <td>Ridley Scott</td>\n",
              "      <td>16</td>\n",
              "      <td>3189557997</td>\n",
              "    </tr>\n",
              "  </tbody>\n",
              "</table>\n",
              "</div>\n",
              "      <button class=\"colab-df-convert\" onclick=\"convertToInteractive('df-9d7c547d-6a3f-4599-b866-9684fb094772')\"\n",
              "              title=\"Convert this dataframe to an interactive table.\"\n",
              "              style=\"display:none;\">\n",
              "        \n",
              "  <svg xmlns=\"http://www.w3.org/2000/svg\" height=\"24px\"viewBox=\"0 0 24 24\"\n",
              "       width=\"24px\">\n",
              "    <path d=\"M0 0h24v24H0V0z\" fill=\"none\"/>\n",
              "    <path d=\"M18.56 5.44l.94 2.06.94-2.06 2.06-.94-2.06-.94-.94-2.06-.94 2.06-2.06.94zm-11 1L8.5 8.5l.94-2.06 2.06-.94-2.06-.94L8.5 2.5l-.94 2.06-2.06.94zm10 10l.94 2.06.94-2.06 2.06-.94-2.06-.94-.94-2.06-.94 2.06-2.06.94z\"/><path d=\"M17.41 7.96l-1.37-1.37c-.4-.4-.92-.59-1.43-.59-.52 0-1.04.2-1.43.59L10.3 9.45l-7.72 7.72c-.78.78-.78 2.05 0 2.83L4 21.41c.39.39.9.59 1.41.59.51 0 1.02-.2 1.41-.59l7.78-7.78 2.81-2.81c.8-.78.8-2.07 0-2.86zM5.41 20L4 18.59l7.72-7.72 1.47 1.35L5.41 20z\"/>\n",
              "  </svg>\n",
              "      </button>\n",
              "      \n",
              "  <style>\n",
              "    .colab-df-container {\n",
              "      display:flex;\n",
              "      flex-wrap:wrap;\n",
              "      gap: 12px;\n",
              "    }\n",
              "\n",
              "    .colab-df-convert {\n",
              "      background-color: #E8F0FE;\n",
              "      border: none;\n",
              "      border-radius: 50%;\n",
              "      cursor: pointer;\n",
              "      display: none;\n",
              "      fill: #1967D2;\n",
              "      height: 32px;\n",
              "      padding: 0 0 0 0;\n",
              "      width: 32px;\n",
              "    }\n",
              "\n",
              "    .colab-df-convert:hover {\n",
              "      background-color: #E2EBFA;\n",
              "      box-shadow: 0px 1px 2px rgba(60, 64, 67, 0.3), 0px 1px 3px 1px rgba(60, 64, 67, 0.15);\n",
              "      fill: #174EA6;\n",
              "    }\n",
              "\n",
              "    [theme=dark] .colab-df-convert {\n",
              "      background-color: #3B4455;\n",
              "      fill: #D2E3FC;\n",
              "    }\n",
              "\n",
              "    [theme=dark] .colab-df-convert:hover {\n",
              "      background-color: #434B5C;\n",
              "      box-shadow: 0px 1px 3px 1px rgba(0, 0, 0, 0.15);\n",
              "      filter: drop-shadow(0px 1px 2px rgba(0, 0, 0, 0.3));\n",
              "      fill: #FFFFFF;\n",
              "    }\n",
              "  </style>\n",
              "\n",
              "      <script>\n",
              "        const buttonEl =\n",
              "          document.querySelector('#df-9d7c547d-6a3f-4599-b866-9684fb094772 button.colab-df-convert');\n",
              "        buttonEl.style.display =\n",
              "          google.colab.kernel.accessAllowed ? 'block' : 'none';\n",
              "\n",
              "        async function convertToInteractive(key) {\n",
              "          const element = document.querySelector('#df-9d7c547d-6a3f-4599-b866-9684fb094772');\n",
              "          const dataTable =\n",
              "            await google.colab.kernel.invokeFunction('convertToInteractive',\n",
              "                                                     [key], {});\n",
              "          if (!dataTable) return;\n",
              "\n",
              "          const docLinkHtml = 'Like what you see? Visit the ' +\n",
              "            '<a target=\"_blank\" href=https://colab.research.google.com/notebooks/data_table.ipynb>data table notebook</a>'\n",
              "            + ' to learn more about interactive tables.';\n",
              "          element.innerHTML = '';\n",
              "          dataTable['output_type'] = 'display_data';\n",
              "          await google.colab.output.renderOutput(dataTable, element);\n",
              "          const docLink = document.createElement('div');\n",
              "          docLink.innerHTML = docLinkHtml;\n",
              "          element.appendChild(docLink);\n",
              "        }\n",
              "      </script>\n",
              "    </div>\n",
              "  </div>\n",
              "  "
            ]
          },
          "metadata": {},
          "execution_count": 54
        }
      ]
    },
    {
      "cell_type": "markdown",
      "source": [
        "# NOTE:"
      ],
      "metadata": {
        "id": "IPYBQ2EHycvd"
      }
    },
    {
      "cell_type": "markdown",
      "source": [
        "The mostProfitableDirector Table Shows The Directors With The Highest Gross Profit.\n",
        "\n",
        "Currently, Steven Spielberg Is The Director With The Most Gross Profit, with USD 9,147,393,164 from his 27 movies.\n",
        "\n",
        "Then, Peter Jackson With USD 6,498,642,820, James Cameron With USD 5,883,569,439, And The Other Directors."
      ],
      "metadata": {
        "id": "2UekVshmykL_"
      }
    },
    {
      "cell_type": "markdown",
      "source": [
        "Question - Display all the number of movies for particular director and revenue ."
      ],
      "metadata": {
        "id": "xjbmHvLdp8tG"
      }
    },
    {
      "cell_type": "code",
      "source": [
        "cur.execute(\"select name,count(original_title),sum(revenue) from movies join directors on movies.director_id = directors.id group by name order by count(original_title) DESC\")\n",
        "mostProductiveDirector=cur.fetchall()\n",
        "\n",
        "mostProductiveDirector=pd.DataFrame(mostProductiveDirector,columns=[\"director_name\",\"total_count_movies\",\"total revenue\"])\n",
        "mostProductiveDirector.head(10)"
      ],
      "metadata": {
        "colab": {
          "base_uri": "https://localhost:8080/",
          "height": 363
        },
        "id": "b1eafbhup-LJ",
        "outputId": "25b7f3e7-6c4b-4ef0-d6b0-94e9ad85759e"
      },
      "execution_count": 55,
      "outputs": [
        {
          "output_type": "execute_result",
          "data": {
            "text/plain": [
              "       director_name  total_count_movies  total revenue\n",
              "0   Steven Spielberg                  27     9147393164\n",
              "1        Woody Allen                  21      669101038\n",
              "2     Clint Eastwood                  20     2512058888\n",
              "3    Martin Scorsese                  20     1956635998\n",
              "4       Ridley Scott                  16     3189557997\n",
              "5   Robert Rodriguez                  16     1109899581\n",
              "6          Spike Lee                  16      340618771\n",
              "7       Renny Harlin                  15     1031500590\n",
              "8  Steven Soderbergh                  15     2114864443\n",
              "9       Oliver Stone                  14     1278048615"
            ],
            "text/html": [
              "\n",
              "  <div id=\"df-22abf13c-e9bf-4eda-bef2-7947ac10743b\">\n",
              "    <div class=\"colab-df-container\">\n",
              "      <div>\n",
              "<style scoped>\n",
              "    .dataframe tbody tr th:only-of-type {\n",
              "        vertical-align: middle;\n",
              "    }\n",
              "\n",
              "    .dataframe tbody tr th {\n",
              "        vertical-align: top;\n",
              "    }\n",
              "\n",
              "    .dataframe thead th {\n",
              "        text-align: right;\n",
              "    }\n",
              "</style>\n",
              "<table border=\"1\" class=\"dataframe\">\n",
              "  <thead>\n",
              "    <tr style=\"text-align: right;\">\n",
              "      <th></th>\n",
              "      <th>director_name</th>\n",
              "      <th>total_count_movies</th>\n",
              "      <th>total revenue</th>\n",
              "    </tr>\n",
              "  </thead>\n",
              "  <tbody>\n",
              "    <tr>\n",
              "      <th>0</th>\n",
              "      <td>Steven Spielberg</td>\n",
              "      <td>27</td>\n",
              "      <td>9147393164</td>\n",
              "    </tr>\n",
              "    <tr>\n",
              "      <th>1</th>\n",
              "      <td>Woody Allen</td>\n",
              "      <td>21</td>\n",
              "      <td>669101038</td>\n",
              "    </tr>\n",
              "    <tr>\n",
              "      <th>2</th>\n",
              "      <td>Clint Eastwood</td>\n",
              "      <td>20</td>\n",
              "      <td>2512058888</td>\n",
              "    </tr>\n",
              "    <tr>\n",
              "      <th>3</th>\n",
              "      <td>Martin Scorsese</td>\n",
              "      <td>20</td>\n",
              "      <td>1956635998</td>\n",
              "    </tr>\n",
              "    <tr>\n",
              "      <th>4</th>\n",
              "      <td>Ridley Scott</td>\n",
              "      <td>16</td>\n",
              "      <td>3189557997</td>\n",
              "    </tr>\n",
              "    <tr>\n",
              "      <th>5</th>\n",
              "      <td>Robert Rodriguez</td>\n",
              "      <td>16</td>\n",
              "      <td>1109899581</td>\n",
              "    </tr>\n",
              "    <tr>\n",
              "      <th>6</th>\n",
              "      <td>Spike Lee</td>\n",
              "      <td>16</td>\n",
              "      <td>340618771</td>\n",
              "    </tr>\n",
              "    <tr>\n",
              "      <th>7</th>\n",
              "      <td>Renny Harlin</td>\n",
              "      <td>15</td>\n",
              "      <td>1031500590</td>\n",
              "    </tr>\n",
              "    <tr>\n",
              "      <th>8</th>\n",
              "      <td>Steven Soderbergh</td>\n",
              "      <td>15</td>\n",
              "      <td>2114864443</td>\n",
              "    </tr>\n",
              "    <tr>\n",
              "      <th>9</th>\n",
              "      <td>Oliver Stone</td>\n",
              "      <td>14</td>\n",
              "      <td>1278048615</td>\n",
              "    </tr>\n",
              "  </tbody>\n",
              "</table>\n",
              "</div>\n",
              "      <button class=\"colab-df-convert\" onclick=\"convertToInteractive('df-22abf13c-e9bf-4eda-bef2-7947ac10743b')\"\n",
              "              title=\"Convert this dataframe to an interactive table.\"\n",
              "              style=\"display:none;\">\n",
              "        \n",
              "  <svg xmlns=\"http://www.w3.org/2000/svg\" height=\"24px\"viewBox=\"0 0 24 24\"\n",
              "       width=\"24px\">\n",
              "    <path d=\"M0 0h24v24H0V0z\" fill=\"none\"/>\n",
              "    <path d=\"M18.56 5.44l.94 2.06.94-2.06 2.06-.94-2.06-.94-.94-2.06-.94 2.06-2.06.94zm-11 1L8.5 8.5l.94-2.06 2.06-.94-2.06-.94L8.5 2.5l-.94 2.06-2.06.94zm10 10l.94 2.06.94-2.06 2.06-.94-2.06-.94-.94-2.06-.94 2.06-2.06.94z\"/><path d=\"M17.41 7.96l-1.37-1.37c-.4-.4-.92-.59-1.43-.59-.52 0-1.04.2-1.43.59L10.3 9.45l-7.72 7.72c-.78.78-.78 2.05 0 2.83L4 21.41c.39.39.9.59 1.41.59.51 0 1.02-.2 1.41-.59l7.78-7.78 2.81-2.81c.8-.78.8-2.07 0-2.86zM5.41 20L4 18.59l7.72-7.72 1.47 1.35L5.41 20z\"/>\n",
              "  </svg>\n",
              "      </button>\n",
              "      \n",
              "  <style>\n",
              "    .colab-df-container {\n",
              "      display:flex;\n",
              "      flex-wrap:wrap;\n",
              "      gap: 12px;\n",
              "    }\n",
              "\n",
              "    .colab-df-convert {\n",
              "      background-color: #E8F0FE;\n",
              "      border: none;\n",
              "      border-radius: 50%;\n",
              "      cursor: pointer;\n",
              "      display: none;\n",
              "      fill: #1967D2;\n",
              "      height: 32px;\n",
              "      padding: 0 0 0 0;\n",
              "      width: 32px;\n",
              "    }\n",
              "\n",
              "    .colab-df-convert:hover {\n",
              "      background-color: #E2EBFA;\n",
              "      box-shadow: 0px 1px 2px rgba(60, 64, 67, 0.3), 0px 1px 3px 1px rgba(60, 64, 67, 0.15);\n",
              "      fill: #174EA6;\n",
              "    }\n",
              "\n",
              "    [theme=dark] .colab-df-convert {\n",
              "      background-color: #3B4455;\n",
              "      fill: #D2E3FC;\n",
              "    }\n",
              "\n",
              "    [theme=dark] .colab-df-convert:hover {\n",
              "      background-color: #434B5C;\n",
              "      box-shadow: 0px 1px 3px 1px rgba(0, 0, 0, 0.15);\n",
              "      filter: drop-shadow(0px 1px 2px rgba(0, 0, 0, 0.3));\n",
              "      fill: #FFFFFF;\n",
              "    }\n",
              "  </style>\n",
              "\n",
              "      <script>\n",
              "        const buttonEl =\n",
              "          document.querySelector('#df-22abf13c-e9bf-4eda-bef2-7947ac10743b button.colab-df-convert');\n",
              "        buttonEl.style.display =\n",
              "          google.colab.kernel.accessAllowed ? 'block' : 'none';\n",
              "\n",
              "        async function convertToInteractive(key) {\n",
              "          const element = document.querySelector('#df-22abf13c-e9bf-4eda-bef2-7947ac10743b');\n",
              "          const dataTable =\n",
              "            await google.colab.kernel.invokeFunction('convertToInteractive',\n",
              "                                                     [key], {});\n",
              "          if (!dataTable) return;\n",
              "\n",
              "          const docLinkHtml = 'Like what you see? Visit the ' +\n",
              "            '<a target=\"_blank\" href=https://colab.research.google.com/notebooks/data_table.ipynb>data table notebook</a>'\n",
              "            + ' to learn more about interactive tables.';\n",
              "          element.innerHTML = '';\n",
              "          dataTable['output_type'] = 'display_data';\n",
              "          await google.colab.output.renderOutput(dataTable, element);\n",
              "          const docLink = document.createElement('div');\n",
              "          docLink.innerHTML = docLinkHtml;\n",
              "          element.appendChild(docLink);\n",
              "        }\n",
              "      </script>\n",
              "    </div>\n",
              "  </div>\n",
              "  "
            ]
          },
          "metadata": {},
          "execution_count": 55
        }
      ]
    },
    {
      "cell_type": "markdown",
      "source": [
        "# NOTE:"
      ],
      "metadata": {
        "id": "PSUwhjNsywl0"
      }
    },
    {
      "cell_type": "markdown",
      "source": [
        "The mostProductiveDirector Table Contains The Name Of The Director And The Number Of Movies It Has Directed By Him.\n",
        "\n",
        "Steven Spielberg Is The Most Productive Director With 27 Movies Titles He Has Directed. Meanwhile, Woody Allen Has Only 21 Movies Titles.\n",
        "\n",
        "Then, Martin Scorsese And Clint Eastwood With 20 Movies Titles."
      ],
      "metadata": {
        "id": "V1wKxBZmyyuh"
      }
    },
    {
      "cell_type": "markdown",
      "source": [
        "Question- By doing Director analysis We know Steven Spielberg is the highest revenue, so list the Steven Spielberg movies info"
      ],
      "metadata": {
        "id": "d2eEFcRnqjBn"
      }
    },
    {
      "cell_type": "code",
      "source": [
        "cur.execute(\"select original_title,release_date,budget,revenue,vote_average,vote_count from movies join directors on movies.director_id=directors.id where name='Steven Spielberg' order by release_date DESC\")\n",
        "inf=cur.fetchall()\n",
        "\n",
        "inf=pd.DataFrame(inf,columns=[\"movie\",\"release_date\",\"budget\",\"revenue\",\"vote_average\",\"vote_count\"])\n",
        "\n",
        "inf"
      ],
      "metadata": {
        "colab": {
          "base_uri": "https://localhost:8080/",
          "height": 895
        },
        "id": "XTyrgy2pqkRO",
        "outputId": "a8aa406e-c0af-4716-f1cf-2dc2792de673"
      },
      "execution_count": 56,
      "outputs": [
        {
          "output_type": "execute_result",
          "data": {
            "text/plain": [
              "                                                movie release_date     budget  \\\n",
              "0                                             The BFG   2016-06-01  140000000   \n",
              "1                                     Bridge of Spies   2015-10-15   40000000   \n",
              "2                                             Lincoln   2012-11-09   65000000   \n",
              "3                                           War Horse   2011-12-25   66000000   \n",
              "4                            The Adventures of Tintin   2011-10-25  130000000   \n",
              "5   Indiana Jones and the Kingdom of the Crystal S...   2008-05-21  185000000   \n",
              "6                                              Munich   2005-12-22   70000000   \n",
              "7                                   War of the Worlds   2005-06-28  132000000   \n",
              "8                                        The Terminal   2004-06-17   60000000   \n",
              "9                                 Catch Me If You Can   2002-12-25   52000000   \n",
              "10                                    Minority Report   2002-06-20  102000000   \n",
              "11                       A.I. Artificial Intelligence   2001-06-29  100000000   \n",
              "12                                Saving Private Ryan   1998-07-24   70000000   \n",
              "13                                            Amistad   1997-12-03   36000000   \n",
              "14                      The Lost World: Jurassic Park   1997-05-23   73000000   \n",
              "15                                   Schindler's List   1993-11-29   22000000   \n",
              "16                                      Jurassic Park   1993-06-11   63000000   \n",
              "17                                               Hook   1991-12-11   70000000   \n",
              "18                 Indiana Jones and the Last Crusade   1989-05-24   48000000   \n",
              "19                                   The Color Purple   1985-12-18   15000000   \n",
              "20               Indiana Jones and the Temple of Doom   1984-05-23   28000000   \n",
              "21                           Twilight Zone: The Movie   1983-06-24   10000000   \n",
              "22                         E.T. the Extra-Terrestrial   1982-04-03   10500000   \n",
              "23                            Raiders of the Lost Ark   1981-06-12   18000000   \n",
              "24                                               1941   1979-12-13   35000000   \n",
              "25                 Close Encounters of the Third Kind   1977-11-16   20000000   \n",
              "26                                               Jaws   1975-06-18    7000000   \n",
              "\n",
              "      revenue  vote_average  vote_count  \n",
              "0   183345589           6.0        1000  \n",
              "1   165478348           7.2        2583  \n",
              "2   275293450           6.7        1429  \n",
              "3   177584879           7.0         992  \n",
              "4   371940071           6.7        2061  \n",
              "5   786636033           5.7        2495  \n",
              "6   130358911           6.9         696  \n",
              "7   591739379           6.2        2322  \n",
              "8   219417255           7.0        1910  \n",
              "9   352114312           7.7        3795  \n",
              "10  358372926           7.1        2608  \n",
              "11  235926552           6.8        1974  \n",
              "12  481840909           7.9        5048  \n",
              "13   74000000           6.8         316  \n",
              "14  229074524           6.2        2487  \n",
              "15  321365567           8.3        4329  \n",
              "16  920100000           7.6        4856  \n",
              "17  300854823           6.6        1532  \n",
              "18  474171806           7.6        3152  \n",
              "19  146292009           7.7         338  \n",
              "20  333000000           7.1        2781  \n",
              "21   29450919           6.2         161  \n",
              "22  792910554           7.3        3269  \n",
              "23  389925971           7.7        3854  \n",
              "24   31755742           5.6         143  \n",
              "25  303788635           7.2        1098  \n",
              "26  470654000           7.5        2542  "
            ],
            "text/html": [
              "\n",
              "  <div id=\"df-334523df-1982-4365-9082-af0bf7b6b261\">\n",
              "    <div class=\"colab-df-container\">\n",
              "      <div>\n",
              "<style scoped>\n",
              "    .dataframe tbody tr th:only-of-type {\n",
              "        vertical-align: middle;\n",
              "    }\n",
              "\n",
              "    .dataframe tbody tr th {\n",
              "        vertical-align: top;\n",
              "    }\n",
              "\n",
              "    .dataframe thead th {\n",
              "        text-align: right;\n",
              "    }\n",
              "</style>\n",
              "<table border=\"1\" class=\"dataframe\">\n",
              "  <thead>\n",
              "    <tr style=\"text-align: right;\">\n",
              "      <th></th>\n",
              "      <th>movie</th>\n",
              "      <th>release_date</th>\n",
              "      <th>budget</th>\n",
              "      <th>revenue</th>\n",
              "      <th>vote_average</th>\n",
              "      <th>vote_count</th>\n",
              "    </tr>\n",
              "  </thead>\n",
              "  <tbody>\n",
              "    <tr>\n",
              "      <th>0</th>\n",
              "      <td>The BFG</td>\n",
              "      <td>2016-06-01</td>\n",
              "      <td>140000000</td>\n",
              "      <td>183345589</td>\n",
              "      <td>6.0</td>\n",
              "      <td>1000</td>\n",
              "    </tr>\n",
              "    <tr>\n",
              "      <th>1</th>\n",
              "      <td>Bridge of Spies</td>\n",
              "      <td>2015-10-15</td>\n",
              "      <td>40000000</td>\n",
              "      <td>165478348</td>\n",
              "      <td>7.2</td>\n",
              "      <td>2583</td>\n",
              "    </tr>\n",
              "    <tr>\n",
              "      <th>2</th>\n",
              "      <td>Lincoln</td>\n",
              "      <td>2012-11-09</td>\n",
              "      <td>65000000</td>\n",
              "      <td>275293450</td>\n",
              "      <td>6.7</td>\n",
              "      <td>1429</td>\n",
              "    </tr>\n",
              "    <tr>\n",
              "      <th>3</th>\n",
              "      <td>War Horse</td>\n",
              "      <td>2011-12-25</td>\n",
              "      <td>66000000</td>\n",
              "      <td>177584879</td>\n",
              "      <td>7.0</td>\n",
              "      <td>992</td>\n",
              "    </tr>\n",
              "    <tr>\n",
              "      <th>4</th>\n",
              "      <td>The Adventures of Tintin</td>\n",
              "      <td>2011-10-25</td>\n",
              "      <td>130000000</td>\n",
              "      <td>371940071</td>\n",
              "      <td>6.7</td>\n",
              "      <td>2061</td>\n",
              "    </tr>\n",
              "    <tr>\n",
              "      <th>5</th>\n",
              "      <td>Indiana Jones and the Kingdom of the Crystal S...</td>\n",
              "      <td>2008-05-21</td>\n",
              "      <td>185000000</td>\n",
              "      <td>786636033</td>\n",
              "      <td>5.7</td>\n",
              "      <td>2495</td>\n",
              "    </tr>\n",
              "    <tr>\n",
              "      <th>6</th>\n",
              "      <td>Munich</td>\n",
              "      <td>2005-12-22</td>\n",
              "      <td>70000000</td>\n",
              "      <td>130358911</td>\n",
              "      <td>6.9</td>\n",
              "      <td>696</td>\n",
              "    </tr>\n",
              "    <tr>\n",
              "      <th>7</th>\n",
              "      <td>War of the Worlds</td>\n",
              "      <td>2005-06-28</td>\n",
              "      <td>132000000</td>\n",
              "      <td>591739379</td>\n",
              "      <td>6.2</td>\n",
              "      <td>2322</td>\n",
              "    </tr>\n",
              "    <tr>\n",
              "      <th>8</th>\n",
              "      <td>The Terminal</td>\n",
              "      <td>2004-06-17</td>\n",
              "      <td>60000000</td>\n",
              "      <td>219417255</td>\n",
              "      <td>7.0</td>\n",
              "      <td>1910</td>\n",
              "    </tr>\n",
              "    <tr>\n",
              "      <th>9</th>\n",
              "      <td>Catch Me If You Can</td>\n",
              "      <td>2002-12-25</td>\n",
              "      <td>52000000</td>\n",
              "      <td>352114312</td>\n",
              "      <td>7.7</td>\n",
              "      <td>3795</td>\n",
              "    </tr>\n",
              "    <tr>\n",
              "      <th>10</th>\n",
              "      <td>Minority Report</td>\n",
              "      <td>2002-06-20</td>\n",
              "      <td>102000000</td>\n",
              "      <td>358372926</td>\n",
              "      <td>7.1</td>\n",
              "      <td>2608</td>\n",
              "    </tr>\n",
              "    <tr>\n",
              "      <th>11</th>\n",
              "      <td>A.I. Artificial Intelligence</td>\n",
              "      <td>2001-06-29</td>\n",
              "      <td>100000000</td>\n",
              "      <td>235926552</td>\n",
              "      <td>6.8</td>\n",
              "      <td>1974</td>\n",
              "    </tr>\n",
              "    <tr>\n",
              "      <th>12</th>\n",
              "      <td>Saving Private Ryan</td>\n",
              "      <td>1998-07-24</td>\n",
              "      <td>70000000</td>\n",
              "      <td>481840909</td>\n",
              "      <td>7.9</td>\n",
              "      <td>5048</td>\n",
              "    </tr>\n",
              "    <tr>\n",
              "      <th>13</th>\n",
              "      <td>Amistad</td>\n",
              "      <td>1997-12-03</td>\n",
              "      <td>36000000</td>\n",
              "      <td>74000000</td>\n",
              "      <td>6.8</td>\n",
              "      <td>316</td>\n",
              "    </tr>\n",
              "    <tr>\n",
              "      <th>14</th>\n",
              "      <td>The Lost World: Jurassic Park</td>\n",
              "      <td>1997-05-23</td>\n",
              "      <td>73000000</td>\n",
              "      <td>229074524</td>\n",
              "      <td>6.2</td>\n",
              "      <td>2487</td>\n",
              "    </tr>\n",
              "    <tr>\n",
              "      <th>15</th>\n",
              "      <td>Schindler's List</td>\n",
              "      <td>1993-11-29</td>\n",
              "      <td>22000000</td>\n",
              "      <td>321365567</td>\n",
              "      <td>8.3</td>\n",
              "      <td>4329</td>\n",
              "    </tr>\n",
              "    <tr>\n",
              "      <th>16</th>\n",
              "      <td>Jurassic Park</td>\n",
              "      <td>1993-06-11</td>\n",
              "      <td>63000000</td>\n",
              "      <td>920100000</td>\n",
              "      <td>7.6</td>\n",
              "      <td>4856</td>\n",
              "    </tr>\n",
              "    <tr>\n",
              "      <th>17</th>\n",
              "      <td>Hook</td>\n",
              "      <td>1991-12-11</td>\n",
              "      <td>70000000</td>\n",
              "      <td>300854823</td>\n",
              "      <td>6.6</td>\n",
              "      <td>1532</td>\n",
              "    </tr>\n",
              "    <tr>\n",
              "      <th>18</th>\n",
              "      <td>Indiana Jones and the Last Crusade</td>\n",
              "      <td>1989-05-24</td>\n",
              "      <td>48000000</td>\n",
              "      <td>474171806</td>\n",
              "      <td>7.6</td>\n",
              "      <td>3152</td>\n",
              "    </tr>\n",
              "    <tr>\n",
              "      <th>19</th>\n",
              "      <td>The Color Purple</td>\n",
              "      <td>1985-12-18</td>\n",
              "      <td>15000000</td>\n",
              "      <td>146292009</td>\n",
              "      <td>7.7</td>\n",
              "      <td>338</td>\n",
              "    </tr>\n",
              "    <tr>\n",
              "      <th>20</th>\n",
              "      <td>Indiana Jones and the Temple of Doom</td>\n",
              "      <td>1984-05-23</td>\n",
              "      <td>28000000</td>\n",
              "      <td>333000000</td>\n",
              "      <td>7.1</td>\n",
              "      <td>2781</td>\n",
              "    </tr>\n",
              "    <tr>\n",
              "      <th>21</th>\n",
              "      <td>Twilight Zone: The Movie</td>\n",
              "      <td>1983-06-24</td>\n",
              "      <td>10000000</td>\n",
              "      <td>29450919</td>\n",
              "      <td>6.2</td>\n",
              "      <td>161</td>\n",
              "    </tr>\n",
              "    <tr>\n",
              "      <th>22</th>\n",
              "      <td>E.T. the Extra-Terrestrial</td>\n",
              "      <td>1982-04-03</td>\n",
              "      <td>10500000</td>\n",
              "      <td>792910554</td>\n",
              "      <td>7.3</td>\n",
              "      <td>3269</td>\n",
              "    </tr>\n",
              "    <tr>\n",
              "      <th>23</th>\n",
              "      <td>Raiders of the Lost Ark</td>\n",
              "      <td>1981-06-12</td>\n",
              "      <td>18000000</td>\n",
              "      <td>389925971</td>\n",
              "      <td>7.7</td>\n",
              "      <td>3854</td>\n",
              "    </tr>\n",
              "    <tr>\n",
              "      <th>24</th>\n",
              "      <td>1941</td>\n",
              "      <td>1979-12-13</td>\n",
              "      <td>35000000</td>\n",
              "      <td>31755742</td>\n",
              "      <td>5.6</td>\n",
              "      <td>143</td>\n",
              "    </tr>\n",
              "    <tr>\n",
              "      <th>25</th>\n",
              "      <td>Close Encounters of the Third Kind</td>\n",
              "      <td>1977-11-16</td>\n",
              "      <td>20000000</td>\n",
              "      <td>303788635</td>\n",
              "      <td>7.2</td>\n",
              "      <td>1098</td>\n",
              "    </tr>\n",
              "    <tr>\n",
              "      <th>26</th>\n",
              "      <td>Jaws</td>\n",
              "      <td>1975-06-18</td>\n",
              "      <td>7000000</td>\n",
              "      <td>470654000</td>\n",
              "      <td>7.5</td>\n",
              "      <td>2542</td>\n",
              "    </tr>\n",
              "  </tbody>\n",
              "</table>\n",
              "</div>\n",
              "      <button class=\"colab-df-convert\" onclick=\"convertToInteractive('df-334523df-1982-4365-9082-af0bf7b6b261')\"\n",
              "              title=\"Convert this dataframe to an interactive table.\"\n",
              "              style=\"display:none;\">\n",
              "        \n",
              "  <svg xmlns=\"http://www.w3.org/2000/svg\" height=\"24px\"viewBox=\"0 0 24 24\"\n",
              "       width=\"24px\">\n",
              "    <path d=\"M0 0h24v24H0V0z\" fill=\"none\"/>\n",
              "    <path d=\"M18.56 5.44l.94 2.06.94-2.06 2.06-.94-2.06-.94-.94-2.06-.94 2.06-2.06.94zm-11 1L8.5 8.5l.94-2.06 2.06-.94-2.06-.94L8.5 2.5l-.94 2.06-2.06.94zm10 10l.94 2.06.94-2.06 2.06-.94-2.06-.94-.94-2.06-.94 2.06-2.06.94z\"/><path d=\"M17.41 7.96l-1.37-1.37c-.4-.4-.92-.59-1.43-.59-.52 0-1.04.2-1.43.59L10.3 9.45l-7.72 7.72c-.78.78-.78 2.05 0 2.83L4 21.41c.39.39.9.59 1.41.59.51 0 1.02-.2 1.41-.59l7.78-7.78 2.81-2.81c.8-.78.8-2.07 0-2.86zM5.41 20L4 18.59l7.72-7.72 1.47 1.35L5.41 20z\"/>\n",
              "  </svg>\n",
              "      </button>\n",
              "      \n",
              "  <style>\n",
              "    .colab-df-container {\n",
              "      display:flex;\n",
              "      flex-wrap:wrap;\n",
              "      gap: 12px;\n",
              "    }\n",
              "\n",
              "    .colab-df-convert {\n",
              "      background-color: #E8F0FE;\n",
              "      border: none;\n",
              "      border-radius: 50%;\n",
              "      cursor: pointer;\n",
              "      display: none;\n",
              "      fill: #1967D2;\n",
              "      height: 32px;\n",
              "      padding: 0 0 0 0;\n",
              "      width: 32px;\n",
              "    }\n",
              "\n",
              "    .colab-df-convert:hover {\n",
              "      background-color: #E2EBFA;\n",
              "      box-shadow: 0px 1px 2px rgba(60, 64, 67, 0.3), 0px 1px 3px 1px rgba(60, 64, 67, 0.15);\n",
              "      fill: #174EA6;\n",
              "    }\n",
              "\n",
              "    [theme=dark] .colab-df-convert {\n",
              "      background-color: #3B4455;\n",
              "      fill: #D2E3FC;\n",
              "    }\n",
              "\n",
              "    [theme=dark] .colab-df-convert:hover {\n",
              "      background-color: #434B5C;\n",
              "      box-shadow: 0px 1px 3px 1px rgba(0, 0, 0, 0.15);\n",
              "      filter: drop-shadow(0px 1px 2px rgba(0, 0, 0, 0.3));\n",
              "      fill: #FFFFFF;\n",
              "    }\n",
              "  </style>\n",
              "\n",
              "      <script>\n",
              "        const buttonEl =\n",
              "          document.querySelector('#df-334523df-1982-4365-9082-af0bf7b6b261 button.colab-df-convert');\n",
              "        buttonEl.style.display =\n",
              "          google.colab.kernel.accessAllowed ? 'block' : 'none';\n",
              "\n",
              "        async function convertToInteractive(key) {\n",
              "          const element = document.querySelector('#df-334523df-1982-4365-9082-af0bf7b6b261');\n",
              "          const dataTable =\n",
              "            await google.colab.kernel.invokeFunction('convertToInteractive',\n",
              "                                                     [key], {});\n",
              "          if (!dataTable) return;\n",
              "\n",
              "          const docLinkHtml = 'Like what you see? Visit the ' +\n",
              "            '<a target=\"_blank\" href=https://colab.research.google.com/notebooks/data_table.ipynb>data table notebook</a>'\n",
              "            + ' to learn more about interactive tables.';\n",
              "          element.innerHTML = '';\n",
              "          dataTable['output_type'] = 'display_data';\n",
              "          await google.colab.output.renderOutput(dataTable, element);\n",
              "          const docLink = document.createElement('div');\n",
              "          docLink.innerHTML = docLinkHtml;\n",
              "          element.appendChild(docLink);\n",
              "        }\n",
              "      </script>\n",
              "    </div>\n",
              "  </div>\n",
              "  "
            ]
          },
          "metadata": {},
          "execution_count": 56
        }
      ]
    },
    {
      "cell_type": "markdown",
      "source": [
        "# NOTE:\n",
        "\n",
        "From Two Tables Above, mostProfitableDirector And mostProductiveDirector, It Can Be Seen That Steven Spielberg Is Always In The First Place.\n",
        "\n",
        "It Can Be Understood That Steven Spielberg Has Produced Many And Incredible Movies That Are Shows In The Table info Above."
      ],
      "metadata": {
        "id": "P-gkCJNLy_3R"
      }
    },
    {
      "cell_type": "markdown",
      "source": [],
      "metadata": {
        "id": "-ecl_3kH0Cwh"
      }
    }
  ]
}